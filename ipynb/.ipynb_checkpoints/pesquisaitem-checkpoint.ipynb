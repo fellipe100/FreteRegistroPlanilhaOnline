{
 "cells": [
  {
   "cell_type": "markdown",
   "metadata": {},
   "source": [
    "<h1>Processo Registro de Frete Planilha Online</h1>\n"
   ]
  },
  {
   "cell_type": "markdown",
   "metadata": {},
   "source": [
    "<h1>pesquisaItem</h1>\n",
    "\n",
    "Este processo acessa a planilha fornecida na plataforma WebSheets, verificando se há pedidos aprovados para geração de DACTE.<br><br>\n",
    "\n",
    "<h3>Passos pesquisaItem</h3><br>\n",
    "• Acessa planilha WebSheets<br>\n",
    "• Coleta de pedidos a serem processados pelo robô<br>"
   ]
  },
  {
   "cell_type": "code",
   "execution_count": 5,
   "metadata": {
    "scrolled": true
   },
   "outputs": [],
   "source": [
    "from core import *\n",
    "\n",
    "def pesquisaitem():\n",
    "    print(\"\\n\\n[Step]--> pesquisaitem - INICIO\")\n",
    "    \n",
    "#     collect_all_spreedshet_data()\n",
    "    \n",
    "    print(\"\\n\\n[Step]--> pesquisaitem - FINAL\")\n",
    "    \n",
    "    return\n",
    "\n"
   ]
  },
  {
   "cell_type": "markdown",
   "metadata": {},
   "source": [
    "<h1>pesquisaItem_Sure</h1>\n",
    "\n",
    "Sem necessidade para esse módulo, será mantido apenas para geração de logs.\n",
    "\n",
    "<h4>Passos pesquisaitem_Sure</h4><br>\n",
    "• Geração de Log.<br>"
   ]
  },
  {
   "cell_type": "code",
   "execution_count": 6,
   "metadata": {},
   "outputs": [],
   "source": [
    "def pesquisaitem_Sure():\n",
    "    print(\"\\n\\n[Step]--> pesquisaitem_Sure - INICIO\")\n",
    "    print(\"\\n\\n[Step]--> pesquisaitem_Sure - FINAL\")\n",
    "    \n",
    "    return\n"
   ]
  },
  {
   "cell_type": "markdown",
   "metadata": {},
   "source": [
    "<h1>Funçoes pesquisaItem</h1>\n",
    "\n",
    "Contem a funcão openWebSheet, utilizada para realizar a comunicação com a API da plataforma WebSheets\n",
    "\n",
    "<h3>func: openWebSheets(str=authFile, str=worksheet, srt=activeSheet='')</h3>\n",
    "<p style=\"text-indent :5em;\" > A função recebe o caminho do arquivo com a chave para acesso à API, o nome da planilha a ser acessada e, opcionalmente, o nome da aba que deverá ser acessada. Se o nome da aba não for fornecido, será utilizada a aba padrão da planilha.<br>\n",
    "<br>Essa função retorna a Sessão aberta com a API</p>\n",
    "\n",
    "<!-- <img src=\"images_doc/notepad_aberto.png\" width=640 heigth=400> -->\n",
    "<br>"
   ]
  },
  {
   "cell_type": "code",
   "execution_count": 11,
   "metadata": {},
   "outputs": [],
   "source": [
    "def openWebSheet(authFile, worksheet, activeSheet=''):\n",
    "\n",
    "    # authFile                 =    name of authentication file provided by Google API Service\n",
    "    # worksheet                =    name of the websheet\n",
    "    # activeSheet (optional)   =    title of the sheet to be activated and returned. If empty, returns default sheet  \n",
    "    \n",
    "    scope = ['https://spreadsheets.google.com/feeds','https://www.googleapis.com/auth/drive']\n",
    "    creds = ServiceAccountCredentials.from_json_keyfile_name(authFile, scope)\n",
    "    client = gspread.authorize(creds)\n",
    "    \n",
    "    # Opens the conection\n",
    "    ws = client.open(worksheet)\n",
    "    \n",
    "    # Checks if the sheet title was passed to the function\n",
    "    if activeSheet != '':\n",
    "        return ws.worksheet(activeSheet)      \n",
    "    \n",
    "    #Returns the worksheet on the default sheet\n",
    "    return ws.sheet1 "
   ]
  },
  {
   "cell_type": "markdown",
   "metadata": {},
   "source": [
    "<h1>Testes e Homologação</h1>\n",
    "<br>\n",
    "<p>Para fins de desenvolvimento interativo, é possível simular a estrutura do framework (modo Training) e rodar o código do StepName diretamente no Jupyter:</p>"
   ]
  },
  {
   "cell_type": "code",
   "execution_count": 8,
   "metadata": {},
   "outputs": [
    {
     "name": "stdout",
     "output_type": "stream",
     "text": [
      "\n",
      "\n",
      "[Step]--> relatorioweb\n",
      "2020/01/09 12:38:33 - Notepad fechado!\n",
      "\n",
      "2020/01/09 12:38:33 - [[ abrir_notepad ]]\n",
      "\n",
      "2020/01/09 12:38:34 - Abrindo NoteBook prd\n",
      "\n",
      "2020/01/09 12:38:36 - abriu_notebook:\n",
      "\tUntitled - Notepad\n",
      "\n"
     ]
    }
   ],
   "source": [
    "from core import *\n",
    "\n",
    "if isDebug(__name__): # somente rodar o codigo no Jupyter\n",
    "    #pesquisaitem()\n",
    "    #pesquisaitem_sure()\n",
    "    #print(abrir_notepad('prd'))\n",
    "    pesquisaitem()"
   ]
  },
  {
   "cell_type": "markdown",
   "metadata": {},
   "source": [
    "<h1>Unit Tests</h1>\n",
    "<br>\n",
    "<p>Cada função que realiza um trabalho significativo deverá ter seu respectivo teste unitário.\n",
    "\n",
    "Em contradição ao jeito que programavamos em .ahk, o \"sentido do desenvolvimento de código\" agora deverá respeitar a metodologia de TDD (test driven development) - Primeiramente desenha-se  as funções de teste unitário e <b>somente então</b> inicia-se a codificação em si, com o o objetivo de satisfazer os testes unitários.</p>"
   ]
  },
  {
   "cell_type": "code",
   "execution_count": 1,
   "metadata": {
    "scrolled": true
   },
   "outputs": [
    {
     "ename": "ModuleNotFoundError",
     "evalue": "No module named 'unidecode'",
     "output_type": "error",
     "traceback": [
      "\u001b[1;31m---------------------------------------------------------------------------\u001b[0m",
      "\u001b[1;31mModuleNotFoundError\u001b[0m                       Traceback (most recent call last)",
      "\u001b[1;32m<ipython-input-1-8910e6e342e0>\u001b[0m in \u001b[0;36m<module>\u001b[1;34m\u001b[0m\n\u001b[1;32m----> 1\u001b[1;33m \u001b[1;32mfrom\u001b[0m \u001b[0mcore\u001b[0m \u001b[1;32mimport\u001b[0m \u001b[1;33m*\u001b[0m\u001b[1;33m\u001b[0m\u001b[1;33m\u001b[0m\u001b[0m\n\u001b[0m\u001b[0;32m      2\u001b[0m \u001b[1;33m\u001b[0m\u001b[0m\n\u001b[0;32m      3\u001b[0m \u001b[1;31m# permitir os testes de serem rodados somente via Jupyter\u001b[0m\u001b[1;33m\u001b[0m\u001b[1;33m\u001b[0m\u001b[1;33m\u001b[0m\u001b[0m\n\u001b[0;32m      4\u001b[0m \u001b[1;32mif\u001b[0m \u001b[0misDebug\u001b[0m\u001b[1;33m(\u001b[0m\u001b[0m__name__\u001b[0m\u001b[1;33m)\u001b[0m\u001b[1;33m:\u001b[0m\u001b[1;33m\u001b[0m\u001b[1;33m\u001b[0m\u001b[0m\n\u001b[0;32m      5\u001b[0m     \u001b[1;32mpass\u001b[0m\u001b[1;33m\u001b[0m\u001b[1;33m\u001b[0m\u001b[0m\n",
      "\u001b[1;32mC:\\BPAEngine\\git\\LeaoRegistroDeFretePlanilhaOnline\\src\\ipynb\\core.py\u001b[0m in \u001b[0;36m<module>\u001b[1;34m\u001b[0m\n\u001b[0;32m     11\u001b[0m                 \u001b[1;32mreturn\u001b[0m \u001b[1;32mFalse\u001b[0m\u001b[1;33m\u001b[0m\u001b[1;33m\u001b[0m\u001b[0m\n\u001b[0;32m     12\u001b[0m \u001b[1;33m\u001b[0m\u001b[0m\n\u001b[1;32m---> 13\u001b[1;33m \u001b[1;32mimport\u001b[0m \u001b[0mlib\u001b[0m\u001b[1;33m\u001b[0m\u001b[1;33m\u001b[0m\u001b[0m\n\u001b[0m\u001b[0;32m     14\u001b[0m \u001b[1;32mimport\u001b[0m \u001b[0mjson\u001b[0m\u001b[1;33m\u001b[0m\u001b[1;33m\u001b[0m\u001b[0m\n\u001b[0;32m     15\u001b[0m \u001b[1;32mfrom\u001b[0m \u001b[0mos\u001b[0m \u001b[1;32mimport\u001b[0m \u001b[0mpath\u001b[0m\u001b[1;33m\u001b[0m\u001b[1;33m\u001b[0m\u001b[0m\n",
      "\u001b[1;32mC:\\BPAEngine\\git\\LeaoRegistroDeFretePlanilhaOnline\\src\\ipynb\\lib.py\u001b[0m in \u001b[0;36m<module>\u001b[1;34m\u001b[0m\n\u001b[0;32m      1\u001b[0m \u001b[1;32mimport\u001b[0m \u001b[0mos\u001b[0m\u001b[1;33m\u001b[0m\u001b[1;33m\u001b[0m\u001b[0m\n\u001b[1;32m----> 2\u001b[1;33m \u001b[1;32mimport\u001b[0m \u001b[0munidecode\u001b[0m\u001b[1;33m\u001b[0m\u001b[1;33m\u001b[0m\u001b[0m\n\u001b[0m\u001b[0;32m      3\u001b[0m \u001b[1;32mimport\u001b[0m \u001b[0mos\u001b[0m\u001b[1;33m.\u001b[0m\u001b[0mpath\u001b[0m\u001b[1;33m\u001b[0m\u001b[1;33m\u001b[0m\u001b[0m\n\u001b[0;32m      4\u001b[0m \u001b[1;32mimport\u001b[0m \u001b[0mjson\u001b[0m\u001b[1;33m\u001b[0m\u001b[1;33m\u001b[0m\u001b[0m\n\u001b[0;32m      5\u001b[0m \u001b[1;32mfrom\u001b[0m \u001b[0mahk\u001b[0m \u001b[1;32mimport\u001b[0m \u001b[0mAHK\u001b[0m\u001b[1;33m\u001b[0m\u001b[1;33m\u001b[0m\u001b[0m\n",
      "\u001b[1;31mModuleNotFoundError\u001b[0m: No module named 'unidecode'"
     ]
    }
   ],
   "source": [
    "from core import *\n",
    "# import gspread \n",
    "# from oauth2client.service_account import ServiceAccountCredentials\n",
    "\n",
    "def test_collect_all_spreedshet_data():\n",
    "    test_cases = [{\"test_name\": \"planilha_populada\",\n",
    "                   \"expected_result\": \"POPULATED\"}\n",
    "#                   {\"test_name\": \"planilha_vazia\",\n",
    "#                    \"expected_result\": \"EMPTY\"},\n",
    "                 ]\n",
    "    results = []\n",
    "    expected_results = []\n",
    "    \n",
    "    for test_case in test_cases:\n",
    "        all_data = collect_all_spreedshet_data()\n",
    "    \n",
    "        if len(all_data) > 0:\n",
    "            results.append(\"POPULATED\")\n",
    "        else:\n",
    "            results.append(\"EMPTY\")\n",
    "        \n",
    "        \n",
    "        expected_results.append(test_case[\"expected_result\"])  \n",
    "\n",
    "    print(\"unity test: {}\".format(collect_all_spreedshet_data.__name__))\n",
    "    print(\"results {}\".format(results))\n",
    "    print(\"expected_results {}\".format(expected_results))\n",
    "\n",
    "    assert results == expected_results\n",
    "\n",
    "    print(\"Teste bem sucedido\")\n",
    "    return\n",
    "\n",
    "\n",
    "# permitir os testes de serem rodados somente via Jupyter\n",
    "if isDebug(__name__):\n",
    "    test_collect_all_spreedshet_data()\n",
    "    pass  \n",
    "    "
   ]
  }
 ],
 "metadata": {
  "kernelspec": {
   "display_name": "Python 3",
   "language": "python",
   "name": "python3"
  },
  "language_info": {
   "codemirror_mode": {
    "name": "ipython",
    "version": 3
   },
   "file_extension": ".py",
   "mimetype": "text/x-python",
   "name": "python",
   "nbconvert_exporter": "python",
   "pygments_lexer": "ipython3",
   "version": "3.7.4"
  }
 },
 "nbformat": 4,
 "nbformat_minor": 2
}
