{
 "cells": [
  {
   "cell_type": "code",
   "execution_count": 2,
   "metadata": {},
   "outputs": [],
   "source": [
    "def verificado_Dados_Excel():    \n",
    "    # value --- Texto para procurar na celula\n",
    "    \n",
    "    verificador = True\n",
    "    \n",
    "    #i = 0\n",
    "    value = 'Ok'\n",
    "    \n",
    "    while (verificador):\n",
    "        \n",
    "        try:\n",
    "            f = open(\"TestePython123.txt\", \"w\")\n",
    "\n",
    "            sheet = pieces.lib_processo.openWebSheet(\"API-leao-RegistroDeFrete-e68a2d5382c4.json\",\"Casos-Dacte\",\"Pendentes\") \n",
    "            cell = cell_find(sheet,value)\n",
    "            f.writelines(cell)\n",
    "            row = sheet.row_values(cell.row)\n",
    "            f.writelines(row)\n",
    "           \n",
    "            \n",
    "            if(row[0] != ''):\n",
    "                verificador = False \n",
    "           \n",
    "        except:\n",
    "            f.writelines(\"Erro \")\n",
    "            \n",
    "            \n",
    "    return \n"
   ]
  },
  {
   "cell_type": "code",
   "execution_count": null,
   "metadata": {},
   "outputs": [],
   "source": [
    "verificado_Dados_Excel()"
   ]
  },
  {
   "cell_type": "code",
   "execution_count": null,
   "metadata": {},
   "outputs": [],
   "source": []
  }
 ],
 "metadata": {
  "kernelspec": {
   "display_name": "Python 3",
   "language": "python",
   "name": "python3"
  },
  "language_info": {
   "codemirror_mode": {
    "name": "ipython",
    "version": 3
   },
   "file_extension": ".py",
   "mimetype": "text/x-python",
   "name": "python",
   "nbconvert_exporter": "python",
   "pygments_lexer": "ipython3",
   "version": "3.7.4"
  }
 },
 "nbformat": 4,
 "nbformat_minor": 2
}
