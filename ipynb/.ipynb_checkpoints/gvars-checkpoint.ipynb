{
 "cells": [
  {
   "cell_type": "code",
   "execution_count": 3,
   "metadata": {},
   "outputs": [],
   "source": [
    "import pieces # Somente necessário se for utilizar algo do \"pieces...\" (Ex: lib os, path)\n",
    "\n",
    "enviroment = \"hmg\"\n",
    "\n",
    "# Folder Paths\n",
    "\n",
    "# Paths\n",
    "path_sap = \"C:\\\\Program Files (x86)\\\\SAP\\\\FrontEnd\\\\SAPgui\\\\saplogon.exe\"\n"
   ]
  },
  {
   "cell_type": "code",
   "execution_count": null,
   "metadata": {},
   "outputs": [],
   "source": []
  }
 ],
 "metadata": {
  "kernelspec": {
   "display_name": "Python 3",
   "language": "python",
   "name": "python3"
  },
  "language_info": {
   "codemirror_mode": {
    "name": "ipython",
    "version": 3
   },
   "file_extension": ".py",
   "mimetype": "text/x-python",
   "name": "python",
   "nbconvert_exporter": "python",
   "pygments_lexer": "ipython3",
   "version": "3.7.4"
  }
 },
 "nbformat": 4,
 "nbformat_minor": 2
}
