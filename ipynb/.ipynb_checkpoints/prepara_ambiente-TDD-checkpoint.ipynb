{
 "cells": [
  {
   "cell_type": "markdown",
   "metadata": {},
   "source": [
    "<h1>Processo Registro de Frete</h1>\n"
   ]
  },
  {
   "cell_type": "markdown",
   "metadata": {},
   "source": [
    "<h2>Escopo do Projeto</h2>\n",
    "\n",
    "<ol type=\"1\">\n",
    "\n",
    "  \n",
    "  O processo como um todo pode ser simplificado em 03 etapas.<br>\n",
    "  <ol>\n",
    "      <li>Atribuição de pedidos (no SAP)</li>\n",
    "      <li>Simulação de faturas (no SAP)</li>\n",
    "      <li>Envio dos casos para analise</li>\n",
    "  </ol>\n",
    "  \n",
    "  <u>prepara_ambiente.ipynb</u>\n",
    "  <li>Robô acessa sistema SAP e faz login na transação ZLES010T</li>\n",
    " \n",
    "  <u>pesquisa_sap.ipynb</u>\n",
    "  <li>É feita a pesquisa pelos protocolos pendentes de associação dos últimos 30 dias a contar da data atual (D-30).</li>\n",
    "  <li>Os protocolos pendentes de associação que possuem sugestão de pedido são associados ao pedido sugerido.</li>\n",
    "  \n",
    "  <u>simula_fatura.ipynb</u>\n",
    "  <li>Para cada protocolo com pedido associado é feita a simulação de fatura de acordo com as seguintes regras:</li>\n",
    "  <li>Caso o pedido possua ICMS:</li>\n",
    "  <ul>\n",
    "            <li>No campo Alterar IVA o Robô seleciona a bandeira F4 e faz a simulação para verificar\n",
    "                se as aliquotas de cada janela são iguais:</li>\n",
    "            <li>Se os valores forem iguais: </li>\n",
    "            <ul>\n",
    "                <li>O robô coleta os dados nos campos Valor e Base na janela de Pedido,\n",
    "                    subtrai Base - Valor e guarda o resultado</li>\n",
    "                <li>O Robô então faz a mesma operação com os dados Valor e Base da janela de CTe e guarda o resultado</li>\n",
    "                <li>Após efetuar as duas operações, o Robô subtrai os resultados para gerar um novo valor,\n",
    "                    que vai ser inserido no campo \"Desconto de Frete\".</li><br>\n",
    "            </ul>\n",
    "            <li>Se os valores <b>não</b> forem iguais: </li>\n",
    "            <ul>\n",
    "                <li>No campo Alterar IVA, seleciona a bandeira F3 e efetua a simulação para verificar se as aliquotas\n",
    "                    de cada janela se igualaram:</li>\n",
    "                <ul>\n",
    "                    <li>Se as aliquotas estiverem iguais, o Robô então prossegue conforme informado acima, \n",
    "                        faz a coleta dos dados de Valor e Base das janelas Pedido e CTe, \n",
    "                        efetua as subtrações individuais e subtrai os resultados para gerar um novo valor, \n",
    "                        que vai ser inserido no campo \"Desconto de Frete\".</li>\n",
    "                    <li>Se as aliquotas ainda não estiverem iguais, o Robô deverá enviar o caso para Análise Manual.</li><br>\n",
    "            </ul>\n",
    "    <li>Caso o pedido não possua ICMS:</li>\n",
    "    <ul>\n",
    "        <li>No campo Alterar IVA, o robô deverá selecionar a bandeira F2, coletar os dados de Base das janelas Pedido e CTe,\n",
    "            subtrair um valor pelo outro e inserir esse resultado no campo \"Desconto de Frete\".</li>\n",
    "    </ul>\n",
    "  </ul>\n",
    "  <li>Após inserir o valor correspondente no campo Desconto de Frete, o robô finaliza a simulação da Fatura do protocolo.</li>\n",
    "  \n",
    "  <u>envia_dados.ipynb</u>\n",
    "  <li>Envia dos dados de simulação de fatura dos protocolos para uma planilha na plataforma Google WebSheets para aprovação, que deverá ser realizada por um colaborador.</li>\n",
    "</ol>"
   ]
  },
  {
   "cell_type": "markdown",
   "metadata": {},
   "source": [
    "<h1>PreparaAmbiente</h1>\n",
    "\n",
    "No PreparaAmbiente iremos apenas abrir e efetuar login no SAP<br><br>\n",
    "\n",
    "<h3>Passos PreparaAmbiente</h3><br>\n",
    "• Abrir SAP<br>\n",
    "• Efetuar Login no sistema<br>\n",
    "• Acessar a transação ZLES010T<br>"
   ]
  },
  {
   "cell_type": "markdown",
   "metadata": {
    "scrolled": true
   },
   "source": [
    "<h1>Abrir SAP</h1>\n"
   ]
  },
  {
   "cell_type": "code",
   "execution_count": 19,
   "metadata": {},
   "outputs": [
    {
     "name": "stdout",
     "output_type": "stream",
     "text": [
      "\n",
      "\n",
      "[Step]--> PreparaAmbiente\n",
      "2020/04/01 13:42:29 - Looping 'processando' folder for pontential tasks that are stuck/stopped midway\n",
      "\n",
      "2020/04/01 13:42:29 - Found a file in mid-process! > C:\\prd-SegundaViaBoleto\\Processando-RoboSegundaViaBoleto\\71322150004904__000184634-1.json\n",
      "\n",
      "2020/04/01 13:42:29 - read_json(path='C:\\prd-SegundaViaBoleto\\Processando-RoboSegundaViaBoleto\\process_info_memory.json'): Warning: 'path' does not lead to any file.\n",
      "\n",
      "2020/04/01 13:42:29 - Memory file not found, assuming task is new and file was manually moved to 'processando' folder.\n",
      "\n",
      "\n",
      "\n",
      "[Step Begin]--> PreparaAmbiente_Sure\n",
      "\n",
      "\n",
      "[Step End]--> PreparaAmbiente_Sure\n"
     ]
    }
   ],
   "source": [
    "from core import *\n",
    "\n",
    "if isDebug(__name__): # somente rodar o codigo no Jupyter\n",
    "    prepara_ambiente()\n",
    "    prepara_ambiente_sure()"
   ]
  },
  {
   "cell_type": "markdown",
   "metadata": {},
   "source": [
    "<h1>PreparaAmbiente_Sure</h1>\n",
    "\n",
    "Não havendo necessidade, este modulo se manterá apenas para geração de log. <br>\n",
    "\n",
    "<h4>Passos PreparaAmbiente_Sure</h4><br>\n",
    "• Geração de Log<br>"
   ]
  },
  {
   "cell_type": "code",
   "execution_count": 18,
   "metadata": {},
   "outputs": [],
   "source": [
    "def prepara_ambiente_sure():\n",
    "    print(\"\\n\\n[Step Begin]--> PreparaAmbiente_Sure\")\n",
    "    print(\"\\n\\n[Step End]--> PreparaAmbiente_Sure\")\n",
    "    return\n"
   ]
  },
  {
   "cell_type": "markdown",
   "metadata": {},
   "source": [
    "<h1>Funçoes PreparaAmbiente</h1>\n",
    "\n",
    "Contém algumas funções de manuseio do SAP (iniciar app e login)\n",
    "\n",
    "<h2>Funcoes SAP</h2>\n",
    "<h3>func: open_sap_logon()</h3>\n",
    "<p style=\"text-indent :5em;\" > Procura por um SAP Logon já existente, se não localizar, inicia um novo.<br></p>\n",
    "\n",
    "<img src=\"images_doc/sap_logon.png\" width=320 heigth=200>\n",
    "<br>"
   ]
  },
  {
   "cell_type": "markdown",
   "metadata": {},
   "source": [
    "<h1>Testes e Homologação</h1>\n",
    "<br>\n",
    "<p>Para fins de desenvolvimento interativo, é possível simular a estrutura do framework (modo Training) e rodar o código do StepName diretamente no Jupyter:</p>"
   ]
  },
  {
   "cell_type": "markdown",
   "metadata": {},
   "source": [
    "<h1>Unit Tests</h1>\n",
    "<br>\n",
    "<p>Cada função que realiza um trabalho significativo deverá ter seu respectivo teste unitário.\n",
    "\n",
    "Em contradição ao jeito que programavamos em .ahk, o \"sentido do desenvolvimento de código\" agora deverá respeitar a metodologia de TDD (test driven development) - Primeiramente desenha-se  as funções de teste unitário e <b>somente então</b> inicia-se a codificação em si, com o o objetivo de satisfazer os testes unitários.</p>"
   ]
  },
  {
   "cell_type": "code",
   "execution_count": 19,
   "metadata": {},
   "outputs": [
    {
     "name": "stdout",
     "output_type": "stream",
     "text": [
      "\n",
      "\n",
      "[Step]--> PreparaAmbiente\n",
      "2020/04/01 13:42:29 - Looping 'processando' folder for pontential tasks that are stuck/stopped midway\n",
      "\n",
      "2020/04/01 13:42:29 - Found a file in mid-process! > C:\\prd-SegundaViaBoleto\\Processando-RoboSegundaViaBoleto\\71322150004904__000184634-1.json\n",
      "\n",
      "2020/04/01 13:42:29 - read_json(path='C:\\prd-SegundaViaBoleto\\Processando-RoboSegundaViaBoleto\\process_info_memory.json'): Warning: 'path' does not lead to any file.\n",
      "\n",
      "2020/04/01 13:42:29 - Memory file not found, assuming task is new and file was manually moved to 'processando' folder.\n",
      "\n",
      "\n",
      "\n",
      "[Step Begin]--> PreparaAmbiente_Sure\n",
      "\n",
      "\n",
      "[Step End]--> PreparaAmbiente_Sure\n"
     ]
    }
   ],
   "source": [
    "from core import *\n",
    "\n",
    "if isDebug(__name__): # somente rodar o codigo no Jupyter\n",
    "    prepara_ambiente()\n",
    "    prepara_ambiente_sure()"
   ]
  }
 ],
 "metadata": {
  "kernelspec": {
   "display_name": "Python 3",
   "language": "python",
   "name": "python3"
  },
  "language_info": {
   "codemirror_mode": {
    "name": "ipython",
    "version": 3
   },
   "file_extension": ".py",
   "mimetype": "text/x-python",
   "name": "python",
   "nbconvert_exporter": "python",
   "pygments_lexer": "ipython3",
   "version": "3.7.4"
  }
 },
 "nbformat": 4,
 "nbformat_minor": 2
}
