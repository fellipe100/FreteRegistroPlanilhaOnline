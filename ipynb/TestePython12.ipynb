{
 "cells": [
  {
   "cell_type": "code",
   "execution_count": null,
   "metadata": {},
   "outputs": [],
   "source": [
    "import gspread "
   ]
  },
  {
   "cell_type": "code",
   "execution_count": null,
   "metadata": {},
   "outputs": [],
   "source": [
    "from oauth2client.service_account import ServiceAccountCredentials"
   ]
  },
  {
   "cell_type": "code",
   "execution_count": null,
   "metadata": {},
   "outputs": [],
   "source": [
    "\n",
    "\n",
    "def openWebSheet(authFile, worksheet, activeSheet=''):\n",
    "\n",
    "    # authFile                 =    name of authentication file provided by Google API Service\n",
    "    # worksheet                =    name of the websheet\n",
    "    # activeSheet (optional)   =    title of the sheet to be activated and returned. If empty, returns default sheet  \n",
    "    \n",
    "    scope = ['https://spreadsheets.google.com/feeds','https://www.googleapis.com/auth/drive']\n",
    "    creds = ServiceAccountCredentials.from_json_keyfile_name(authFile, scope)\n",
    "    client = gspread.authorize(creds)\n",
    "  \n",
    "    # Opens the conection\n",
    "    ws = client.open(worksheet)\n",
    "\n",
    "    # Checks if the sheet title was passed to the function\n",
    "    if activeSheet != '':\n",
    "        return ws.worksheet(activeSheet)      \n",
    "    \n",
    "    #Returns the worksheet on the default sheet\n",
    "    return ws.sheet1"
   ]
  },
  {
   "cell_type": "code",
   "execution_count": null,
   "metadata": {},
   "outputs": [],
   "source": [
    "a = openWebSheet(\"API-leao-RegistroDeFrete-e68a2d5382c4.json\",\"Casos-Dacte\",\"Pendentes\")\n"
   ]
  },
  {
   "cell_type": "code",
   "execution_count": null,
   "metadata": {},
   "outputs": [],
   "source": [
    "a"
   ]
  },
  {
   "cell_type": "code",
   "execution_count": null,
   "metadata": {},
   "outputs": [],
   "source": []
  }
 ],
 "metadata": {
  "kernelspec": {
   "display_name": "Python 3",
   "language": "python",
   "name": "python3"
  },
  "language_info": {
   "codemirror_mode": {
    "name": "ipython",
    "version": 3
   },
   "file_extension": ".py",
   "mimetype": "text/x-python",
   "name": "python",
   "nbconvert_exporter": "python",
   "pygments_lexer": "ipython3",
   "version": "3.7.4"
  }
 },
 "nbformat": 4,
 "nbformat_minor": 2
}
