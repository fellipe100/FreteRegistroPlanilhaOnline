{
 "cells": [
  {
   "cell_type": "code",
   "execution_count": 3,
   "metadata": {},
   "outputs": [],
   "source": [
    "#!/usr/bin/env python\n",
    "# coding: utf-8\n",
    "\n",
    "# In[3]:\n",
    "\n",
    "# FW Lib\n",
    "import lib\n",
    "\n",
    "# Other libs\n",
    "import pyautogui\n",
    "import pyperclip\n",
    "import time\n",
    "import lib_processo\n",
    "import pywinauto\n",
    "import subprocess\n",
    "import win32com\n",
    "import win32com.client\n",
    "import gspread \n",
    "from oauth2client.service_account import ServiceAccountCredentials\n",
    "\n",
    "#lib Email\n",
    "import email, smtplib, ssl\n",
    "from email import encoders\n",
    "from email.mime.base import MIMEBase\n",
    "from email.mime.multipart import MIMEMultipart\n",
    "from email.mime.text import MIMEText\n",
    "\n",
    "# Steps\n",
    "import finalizadosemsucesso\n",
    "import finalizadocomsucesso\n",
    "import emailfinalizado\n",
    "import entrardacte\n",
    "import pesquisaitem\n",
    "import prepara_ambiente\n",
    "import gogogo\n",
    "\n",
    "# variables python\n",
    "import gvars"
   ]
  }
 ],
 "metadata": {
  "kernelspec": {
   "display_name": "Python 3",
   "language": "python",
   "name": "python3"
  },
  "language_info": {
   "codemirror_mode": {
    "name": "ipython",
    "version": 3
   },
   "file_extension": ".py",
   "mimetype": "text/x-python",
   "name": "python",
   "nbconvert_exporter": "python",
   "pygments_lexer": "ipython3",
   "version": "3.7.4"
  }
 },
 "nbformat": 4,
 "nbformat_minor": 2
}
