{
 "cells": [
  {
   "cell_type": "markdown",
   "metadata": {},
   "source": [
    "<h1>Processo RegistroFrete</h1>\n"
   ]
  },
  {
   "cell_type": "markdown",
   "metadata": {},
   "source": [
    "<h2>Framework Python BPA</h2>\n",
    "\n",
    "Visando melhorar a qualidade de nossos robôs Lorem ipsum dolor sit amet, consectetur adipiscing elit, sed do eiusmod tempor incididunt ut labore et dolore magna aliqua. Ut enim ad minim veniam, quis nostrud exercitation ullamco laboris nisi ut aliquip ex ea commodo consequat. Duis aute irure dolor in reprehenderit in voluptate velit esse cillum dolore eu fugiat nulla pariatur. Excepteur sint occaecat cupidatat non proident, sunt in culpa qui officia deserunt mollit anim id est laborum."
   ]
  },
  {
   "cell_type": "markdown",
   "metadata": {},
   "source": [
    "<h1>finalizadosemsucesso</h1>\n",
    "\n",
    "O processo RegistroFrete utiliza do Notepad.<br>\n",
    "A abertura da aplicação será feita somente no finalizadosemsucesso, logo a função está declarada neste mesmo pedaço de código.<br>\n",
    "Entretanto, a \"função de escrever no Notepad\" é compartilhada com outros StepNames, por este motivo ela está localizada no lib_processo.ipynb<br><br>\n",
    "\n",
    "<h3>Passos finalizadosemsucesso</h3><br>\n",
    "• Abrir Notepad;<br>\n",
    "• Escrever uma credencial obtida do BPASafe no Notepad.<br>"
   ]
  },
  {
   "cell_type": "code",
   "execution_count": 5,
   "metadata": {
    "scrolled": true
   },
   "outputs": [],
   "source": [
    "from core import *\n",
    "\n",
    "def finalizadosemsucesso():\n",
    "    print(\"\\n\\n[Step]--> finalizadosemsucesso\")\n",
    "\n",
    "    # fechar o notepad, se estiver aberto\n",
    "    pieces.lib_processo.fechar_notepad()\n",
    "    \n",
    "    # Abrir o Notepad em \"modo produção\" - Variável no gvars.ipynb\n",
    "    abriu_notebook = abrir_notepad(pieces.gvars.ambiente)\n",
    "\n",
    "    # Retorno da abertura da aplicaçao\n",
    "    pieces.lib.filelog(\"abriu_notebook:\\n\\t\" + str(abriu_notebook))\n",
    "\n",
    "    # Tudo OK, podemos continuar com o processo\n",
    "    if abriu_notebook:\n",
    "        pieces.lib_processo.escrever_notepad(string_escrever=\"Credenciais sistema 1:\\n\", metodo_escrever=3)\n",
    "        pieces.lib_processo.escrever_notepad(string_escrever=str(pieces.lib.bpa_safe_get('sistema1')))\n",
    "    else:\n",
    "        pieces.lib.iAmLost(\"[RPAReset]|Notepad não abriu corretamente.\")\n",
    "    \n",
    "    return\n",
    "     "
   ]
  },
  {
   "cell_type": "markdown",
   "metadata": {},
   "source": [
    "<h1>finalizadosemsucesso_Sure</h1>\n",
    "\n",
    "Com o Notepad aberto, tentaremos escrever algo para verificar se realmente ele está aberto & responsivo.<br>\n",
    "<font color='red'>Atenção:</font> O texto digitado deverá apagado logo após, deixando o Notepad limpo para o processo.<br><br>\n",
    "\n",
    "<h4>Passos finalizadosemsucesso_Sure</h4><br>\n",
    "• Apagar o conteudo do Notepad.<br>"
   ]
  },
  {
   "cell_type": "code",
   "execution_count": 6,
   "metadata": {},
   "outputs": [],
   "source": [
    "def finalizadosemsucesso_sure():\n",
    "    print(\"\\n\\n[Step]--> finalizadosemsucesso_Sure\")\n",
    "    \n",
    "    # Agora apagar o conteudo do Notepad\n",
    "    notepad_em_branco = pieces.lib_processo.apagar_notepad()\n",
    "    print(\"notepad_em_branco:\\n\\t\" + str(notepad_em_branco))\n",
    "\n",
    "    # Teste adicional para ver se ta OK a aplicação (ex: alguma atividade pós-login, neste caso, verificar se ta apagado mesmo)\n",
    "    texto_notepad = pieces.lib_processo.ler_notepad()\n",
    "    print(\"texto_notepad:\\n\\t\" + str(texto_notepad))\n",
    "    \n",
    "    return\n"
   ]
  },
  {
   "cell_type": "markdown",
   "metadata": {},
   "source": [
    "<h1>Funçoes finalizadosemsucesso</h1>\n",
    "\n",
    "Contem a funcão de abrir o notepad.\n",
    "\n",
    "<h2>Funcoes Notepad</h2>\n",
    "<h3>func: abrir_notepad()</h3>\n",
    "<p style=\"text-indent :5em;\" > Procura por uma instancia aberta do notepad. Se nao localizar, inicia uma nova.<br></p>\n",
    "\n",
    "<img src=\"images_doc/notepad_aberto.png\" width=640 heigth=400>\n",
    "<br>"
   ]
  },
  {
   "cell_type": "code",
   "execution_count": 11,
   "metadata": {},
   "outputs": [],
   "source": [
    "def abrir_notepad(ambiente_aplicacao, *, timeout=30):\n",
    "    \"\"\"\n",
    "    Inputs:\n",
    "        ambiente_aplicacao  #   Str 'prd' ou 'hmg', indicando qual path irá ser utilizado (vide gvars)\n",
    "        timeout             #   Tempo permitido para abrir o Notepad antes de retornar -1\n",
    "        \n",
    "    Retornos:\n",
    "        -1                  #   Erro: Timeout ao tentar abrir o notepad\n",
    "        -2                  #   Erro: Path do app não encontrado / invalido\n",
    "        str window title    #   Sucesso: String contendo o nome do aplicativo    \n",
    "    \"\"\"\n",
    "    \n",
    "    pieces.lib.filelog(\"[[ abrir_notepad ]]\")\n",
    "    \n",
    "    # Validacao do input ambiente\n",
    "    ambiente_aplicacao = ambiente_aplicacao.lower() if isinstance(ambiente_aplicacao, str) else ambiente_aplicacao\n",
    "    if (ambiente_aplicacao != 'prd' and ambiente_aplicacao != 'hmg'):\n",
    "        pieces.lib.msgbox('abrir_notepad: Ambiente invalido -->' + ambiente_aplicacao)\n",
    "        pieces.lib.iamlost('abrir_notepad: Ambiente invalido -->' + ambiente_aplicacao)\n",
    "\n",
    "    # Loop com timer de até 10s para abrir notepad (senão False e consequentemente estoura iAmLost)\n",
    "    timer = pieces.lib.Timer(timeout)\n",
    "    while timer.not_expired:\n",
    "        # Nomes que iremos usar como parâmetro para ver se a aplicação abriu corretamente\n",
    "        win_title = pieces.gvars.notepad_title_prd if ambiente_aplicacao == 'prd' else pieces.gvars.notepad_title_hmg\n",
    "        \n",
    "        # Pode ser apenas um nome (string) ou uma list de nomes [string1, string2]\n",
    "        if isinstance(win_title, str):\n",
    "            win_title = [win_title]\n",
    "\n",
    "        for possible_name in win_title:\n",
    "            try:\n",
    "                app_notepad = pieces.pywinauto.application.Application(backend='uia').connect(class_name='Notepad')\n",
    "                app_top_window = app_notepad.top_window()\n",
    "                app_top_window.set_focus()\n",
    "                return app_top_window.texts()[0]\n",
    "            except pieces.pywinauto.application.findwindows.ElementNotFoundError:\n",
    "                pass\n",
    "        \n",
    "        # Senão, abrir a aplicação\n",
    "        else:\n",
    "            if ambiente_aplicacao == \"prd\":\n",
    "                pieces.lib.filelog(\"Abrindo NoteBook prd\")\n",
    "                path = pieces.gvars.notepad_path_prd\n",
    "                pieces.lib.msgbox(path, timeout=1)\n",
    "                try:\n",
    "                    app_notepad = pieces.pywinauto.application.Application().start(path)\n",
    "                except pieces.pywinauto.application.AppStartError:\n",
    "                    # Não conseguiu abrir o aplicativo, ie: path invalido\n",
    "                    return -2\n",
    "            elif ambiente_aplicacao == \"hmg\":\n",
    "                pass # @TODO CODE @\n",
    "            else:\n",
    "                pieces.lib.msgbox(\"ambiente '\" + ambiente + \"' não mapeado ainda\")\n",
    "                \n",
    "    return -1\n"
   ]
  },
  {
   "cell_type": "markdown",
   "metadata": {},
   "source": [
    "<h1>Testes e Homologação</h1>\n",
    "<br>\n",
    "<p>Para fins de desenvolvimento interativo, é possível simular a estrutura do framework (modo Training) e rodar o código do StepName diretamente no Jupyter:</p>"
   ]
  },
  {
   "cell_type": "code",
   "execution_count": 8,
   "metadata": {},
   "outputs": [
    {
     "name": "stdout",
     "output_type": "stream",
     "text": [
      "\n",
      "\n",
      "[Step]--> finalizadosemsucesso\n",
      "2020/01/09 12:38:33 - Notepad fechado!\n",
      "\n",
      "2020/01/09 12:38:33 - [[ abrir_notepad ]]\n",
      "\n",
      "2020/01/09 12:38:34 - Abrindo NoteBook prd\n",
      "\n",
      "2020/01/09 12:38:36 - abriu_notebook:\n",
      "\tUntitled - Notepad\n",
      "\n"
     ]
    }
   ],
   "source": [
    "from core import *\n",
    "\n",
    "if isDebug(__name__): # somente rodar o codigo no Jupyter\n",
    "    #finalizadosemsucesso()\n",
    "    #finalizadosemsucesso_sure()\n",
    "    #print(abrir_notepad('prd'))\n",
    "    finalizadosemsucesso()"
   ]
  },
  {
   "cell_type": "markdown",
   "metadata": {},
   "source": [
    "<h1>Unit Tests</h1>\n",
    "<br>\n",
    "<p>Cada função que realiza um trabalho significativo deverá ter seu respectivo teste unitário.\n",
    "\n",
    "Em contradição ao jeito que programavamos em .ahk, o \"sentido do desenvolvimento de código\" agora deverá respeitar a metodologia de TDD (test driven development) - Primeiramente desenha-se  as funções de teste unitário e <b>somente então</b> inicia-se a codificação em si, com o o objetivo de satisfazer os testes unitários.</p>"
   ]
  },
  {
   "cell_type": "code",
   "execution_count": 12,
   "metadata": {
    "scrolled": true
   },
   "outputs": [
    {
     "name": "stdout",
     "output_type": "stream",
     "text": [
      "2020/01/09 13:03:34 - [[ abrir_notepad ]]\n",
      "\n",
      "2020/01/09 13:03:35 - Abrindo NoteBook prd\n",
      "\n",
      "Resultado test_abrir_notepad():\n",
      "\tUntitled - Notepad\n",
      "test_abrir_notepad: Sucesso!\n",
      "\n",
      "\n",
      "Resultado test_escrever_notepad():\n",
      "\tUnit Testing\n",
      "Unit Testing\n",
      "Unit Testing\n",
      "\n",
      "test_escrever_notepad(): Sucesso!\n",
      "\n",
      "\n",
      "Resultado test_apagar_notepad():\n",
      "\tTrue\n",
      "test_apagar_notepad(): Sucesso!\n",
      "\n",
      "\n"
     ]
    }
   ],
   "source": [
    "from core import *\n",
    "\n",
    "\n",
    "def test_abrir_notepad():\n",
    "    result = abrir_notepad(\"prd\")\n",
    "    expected_result = [\"Untitled - Notepad\", \"Sem Título - Bloco de Notas\"]\n",
    "\n",
    "    print(\"Resultado test_abrir_notepad():\\n\\t\" + str(result))\n",
    "    assert result in expected_result\n",
    "    print(\"test_abrir_notepad: Sucesso!\\n\\n\")  \n",
    "   \n",
    "        \n",
    "def test_escrever_notepad():\n",
    "    test_string = \"Unit Testing\"\n",
    "    pieces.lib_processo.escrever_notepad(string_escrever=test_string)\n",
    "    result = pieces.lib_processo.ler_notepad()\n",
    "    expected_result = test_string\n",
    "\n",
    "    print(\"Resultado test_escrever_notepad():\\n\\t\" + str(result))\n",
    "    assert expected_result in result\n",
    "    print(\"test_escrever_notepad(): Sucesso!\\n\\n\")  \n",
    "\n",
    "    \n",
    "def test_apagar_notepad():\n",
    "    test_string = \"Esta string devera ser apagada!\"\n",
    "    pieces.lib_processo.escrever_notepad(string_escrever=test_string)\n",
    "    result = pieces.lib_processo.apagar_notepad()\n",
    "    expected_result = True\n",
    "\n",
    "    print(\"Resultado test_apagar_notepad():\\n\\t\" + str(result))\n",
    "    assert result == expected_result\n",
    "    print(\"test_apagar_notepad(): Sucesso!\\n\\n\")  \n",
    "\n",
    "    \n",
    "# permitir os testes de serem rodados somente via Jupyter\n",
    "if isDebug(__name__):\n",
    "    test_abrir_notepad()\n",
    "    test_escrever_notepad()\n",
    "    test_apagar_notepad()\n",
    "\n",
    "    \n",
    "    "
   ]
  }
 ],
 "metadata": {
  "kernelspec": {
   "display_name": "Python 3",
   "language": "python",
   "name": "python3"
  },
  "language_info": {
   "codemirror_mode": {
    "name": "ipython",
    "version": 3
   },
   "file_extension": ".py",
   "mimetype": "text/x-python",
   "name": "python",
   "nbconvert_exporter": "python",
   "pygments_lexer": "ipython3",
   "version": "3.7.4"
  }
 },
 "nbformat": 4,
 "nbformat_minor": 2
}