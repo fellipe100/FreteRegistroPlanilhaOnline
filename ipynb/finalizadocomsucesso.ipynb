{
 "cells": [
  {
   "cell_type": "markdown",
   "metadata": {},
   "source": [
    "<h1>Processo RegistroFrete</h1>\n"
   ]
  },
  {
   "cell_type": "markdown",
   "metadata": {},
   "source": [
    "<h1>finalizadocomsucesso</h1>\n",
    "\n",
    "Nessa etapa ocorre o fechamento da sessão do SAP\n",
    "\n",
    "<h3>Passos finalizadocomsucesso</h3><br>\n",
    "• Acessar Sessão<br>\n",
    "• Fechar sessão<br>"
   ]
  },
  {
   "cell_type": "code",
   "execution_count": 1,
   "metadata": {
    "scrolled": true
   },
   "outputs": [
    {
     "name": "stderr",
     "output_type": "stream",
     "text": [
      "Unhandled exception in thread started by <bound method SystemHotkey._nt_wait of <system_hotkey.system_hotkey.SystemHotkey object at 0x00000196AD70C2C8>>\n"
     ]
    },
    {
     "ename": "SystemRegisterError",
     "evalue": "The bind could be in use elsewhere: f10",
     "output_type": "error",
     "traceback": [
      "\u001b[1;31m---------------------------------------------------------------------------\u001b[0m",
      "\u001b[1;31mSystemRegisterError\u001b[0m                       Traceback (most recent call last)",
      "\u001b[1;32mC:\\ProgramData\\Anaconda3\\lib\\site-packages\\system_hotkey\\system_hotkey.py\u001b[0m in \u001b[0;36m_nt_wait\u001b[1;34m(self)\u001b[0m\n\u001b[0;32m    690\u001b[0m                 \u001b[1;32mpass\u001b[0m\u001b[1;33m\u001b[0m\u001b[1;33m\u001b[0m\u001b[0m\n\u001b[0;32m    691\u001b[0m             \u001b[1;32melse\u001b[0m\u001b[1;33m:\u001b[0m\u001b[1;33m\u001b[0m\u001b[1;33m\u001b[0m\u001b[0m\n\u001b[1;32m--> 692\u001b[1;33m                 \u001b[0mremove_or_add\u001b[0m\u001b[1;33m(\u001b[0m\u001b[1;33m)\u001b[0m\u001b[1;33m\u001b[0m\u001b[1;33m\u001b[0m\u001b[0m\n\u001b[0m\u001b[0;32m    693\u001b[0m             \u001b[1;31m# Checking the windows message Queue\u001b[0m\u001b[1;33m\u001b[0m\u001b[1;33m\u001b[0m\u001b[1;33m\u001b[0m\u001b[0m\n\u001b[0;32m    694\u001b[0m             \u001b[1;32mif\u001b[0m \u001b[0muser32\u001b[0m\u001b[1;33m.\u001b[0m\u001b[0mPeekMessageA\u001b[0m\u001b[1;33m(\u001b[0m\u001b[0mbyref\u001b[0m\u001b[1;33m(\u001b[0m\u001b[0mmsg\u001b[0m\u001b[1;33m)\u001b[0m\u001b[1;33m,\u001b[0m \u001b[1;36m0\u001b[0m\u001b[1;33m,\u001b[0m \u001b[1;36m0\u001b[0m\u001b[1;33m,\u001b[0m \u001b[1;36m0\u001b[0m\u001b[1;33m,\u001b[0m \u001b[0mPM_REMOVE\u001b[0m\u001b[1;33m)\u001b[0m\u001b[1;33m:\u001b[0m\u001b[1;33m\u001b[0m\u001b[1;33m\u001b[0m\u001b[0m\n",
      "\u001b[1;32mC:\\ProgramData\\Anaconda3\\lib\\site-packages\\system_hotkey\\system_hotkey.py\u001b[0m in \u001b[0;36m<lambda>\u001b[1;34m()\u001b[0m\n\u001b[0;32m    302\u001b[0m                 \u001b[0mself\u001b[0m\u001b[1;33m.\u001b[0m\u001b[0mhk_ref\u001b[0m\u001b[1;33m[\u001b[0m\u001b[0muniq\u001b[0m\u001b[1;33m]\u001b[0m \u001b[1;33m=\u001b[0m \u001b[1;33m(\u001b[0m\u001b[1;33m(\u001b[0m\u001b[0mkeycode\u001b[0m\u001b[1;33m,\u001b[0m \u001b[0mmasks\u001b[0m\u001b[1;33m)\u001b[0m\u001b[1;33m)\u001b[0m\u001b[1;33m\u001b[0m\u001b[1;33m\u001b[0m\u001b[0m\n\u001b[0;32m    303\u001b[0m                 \u001b[0mself\u001b[0m\u001b[1;33m.\u001b[0m\u001b[0m_the_grab\u001b[0m\u001b[1;33m(\u001b[0m\u001b[0mkeycode\u001b[0m\u001b[1;33m,\u001b[0m \u001b[0mmasks\u001b[0m\u001b[1;33m,\u001b[0m \u001b[0muniq\u001b[0m\u001b[1;33m)\u001b[0m\u001b[1;33m\u001b[0m\u001b[1;33m\u001b[0m\u001b[0m\n\u001b[1;32m--> 304\u001b[1;33m             \u001b[0mself\u001b[0m\u001b[1;33m.\u001b[0m\u001b[0mhk_action_queue\u001b[0m\u001b[1;33m.\u001b[0m\u001b[0mput\u001b[0m\u001b[1;33m(\u001b[0m\u001b[1;32mlambda\u001b[0m\u001b[1;33m:\u001b[0m\u001b[0mnt_register\u001b[0m\u001b[1;33m(\u001b[0m\u001b[1;33m)\u001b[0m\u001b[1;33m)\u001b[0m\u001b[1;33m\u001b[0m\u001b[1;33m\u001b[0m\u001b[0m\n\u001b[0m\u001b[0;32m    305\u001b[0m             \u001b[0mtime\u001b[0m\u001b[1;33m.\u001b[0m\u001b[0msleep\u001b[0m\u001b[1;33m(\u001b[0m\u001b[0mself\u001b[0m\u001b[1;33m.\u001b[0m\u001b[0mcheck_queue_interval\u001b[0m\u001b[1;33m*\u001b[0m\u001b[1;36m3\u001b[0m\u001b[1;33m)\u001b[0m\u001b[1;33m\u001b[0m\u001b[1;33m\u001b[0m\u001b[0m\n\u001b[0;32m    306\u001b[0m         \u001b[1;32melse\u001b[0m\u001b[1;33m:\u001b[0m\u001b[1;33m\u001b[0m\u001b[1;33m\u001b[0m\u001b[0m\n",
      "\u001b[1;32mC:\\ProgramData\\Anaconda3\\lib\\site-packages\\system_hotkey\\system_hotkey.py\u001b[0m in \u001b[0;36mnt_register\u001b[1;34m()\u001b[0m\n\u001b[0;32m    301\u001b[0m                 \u001b[0muniq\u001b[0m \u001b[1;33m=\u001b[0m \u001b[0mutil\u001b[0m\u001b[1;33m.\u001b[0m\u001b[0munique_int\u001b[0m\u001b[1;33m(\u001b[0m\u001b[0mself\u001b[0m\u001b[1;33m.\u001b[0m\u001b[0mhk_ref\u001b[0m\u001b[1;33m.\u001b[0m\u001b[0mkeys\u001b[0m\u001b[1;33m(\u001b[0m\u001b[1;33m)\u001b[0m\u001b[1;33m)\u001b[0m\u001b[1;33m\u001b[0m\u001b[1;33m\u001b[0m\u001b[0m\n\u001b[0;32m    302\u001b[0m                 \u001b[0mself\u001b[0m\u001b[1;33m.\u001b[0m\u001b[0mhk_ref\u001b[0m\u001b[1;33m[\u001b[0m\u001b[0muniq\u001b[0m\u001b[1;33m]\u001b[0m \u001b[1;33m=\u001b[0m \u001b[1;33m(\u001b[0m\u001b[1;33m(\u001b[0m\u001b[0mkeycode\u001b[0m\u001b[1;33m,\u001b[0m \u001b[0mmasks\u001b[0m\u001b[1;33m)\u001b[0m\u001b[1;33m)\u001b[0m\u001b[1;33m\u001b[0m\u001b[1;33m\u001b[0m\u001b[0m\n\u001b[1;32m--> 303\u001b[1;33m                 \u001b[0mself\u001b[0m\u001b[1;33m.\u001b[0m\u001b[0m_the_grab\u001b[0m\u001b[1;33m(\u001b[0m\u001b[0mkeycode\u001b[0m\u001b[1;33m,\u001b[0m \u001b[0mmasks\u001b[0m\u001b[1;33m,\u001b[0m \u001b[0muniq\u001b[0m\u001b[1;33m)\u001b[0m\u001b[1;33m\u001b[0m\u001b[1;33m\u001b[0m\u001b[0m\n\u001b[0m\u001b[0;32m    304\u001b[0m             \u001b[0mself\u001b[0m\u001b[1;33m.\u001b[0m\u001b[0mhk_action_queue\u001b[0m\u001b[1;33m.\u001b[0m\u001b[0mput\u001b[0m\u001b[1;33m(\u001b[0m\u001b[1;32mlambda\u001b[0m\u001b[1;33m:\u001b[0m\u001b[0mnt_register\u001b[0m\u001b[1;33m(\u001b[0m\u001b[1;33m)\u001b[0m\u001b[1;33m)\u001b[0m\u001b[1;33m\u001b[0m\u001b[1;33m\u001b[0m\u001b[0m\n\u001b[0;32m    305\u001b[0m             \u001b[0mtime\u001b[0m\u001b[1;33m.\u001b[0m\u001b[0msleep\u001b[0m\u001b[1;33m(\u001b[0m\u001b[0mself\u001b[0m\u001b[1;33m.\u001b[0m\u001b[0mcheck_queue_interval\u001b[0m\u001b[1;33m*\u001b[0m\u001b[1;36m3\u001b[0m\u001b[1;33m)\u001b[0m\u001b[1;33m\u001b[0m\u001b[1;33m\u001b[0m\u001b[0m\n",
      "\u001b[1;32mC:\\ProgramData\\Anaconda3\\lib\\site-packages\\system_hotkey\\system_hotkey.py\u001b[0m in \u001b[0;36m_nt_the_grab\u001b[1;34m(self, keycode, masks, id, root)\u001b[0m\n\u001b[0;32m    722\u001b[0m             \u001b[0mkeysym\u001b[0m \u001b[1;33m=\u001b[0m \u001b[0mself\u001b[0m\u001b[1;33m.\u001b[0m\u001b[0m_nt_get_keysym\u001b[0m\u001b[1;33m(\u001b[0m\u001b[0mkeycode\u001b[0m\u001b[1;33m)\u001b[0m\u001b[1;33m\u001b[0m\u001b[1;33m\u001b[0m\u001b[0m\n\u001b[0;32m    723\u001b[0m             \u001b[0mmsg\u001b[0m \u001b[1;33m=\u001b[0m \u001b[1;34m'The bind could be in use elsewhere: '\u001b[0m \u001b[1;33m+\u001b[0m \u001b[0mkeysym\u001b[0m\u001b[1;33m\u001b[0m\u001b[1;33m\u001b[0m\u001b[0m\n\u001b[1;32m--> 724\u001b[1;33m             \u001b[1;32mraise\u001b[0m \u001b[0mSystemRegisterError\u001b[0m\u001b[1;33m(\u001b[0m\u001b[0mmsg\u001b[0m\u001b[1;33m)\u001b[0m\u001b[1;33m\u001b[0m\u001b[1;33m\u001b[0m\u001b[0m\n\u001b[0m\u001b[0;32m    725\u001b[0m \u001b[1;33m\u001b[0m\u001b[0m\n\u001b[0;32m    726\u001b[0m     \u001b[1;32mdef\u001b[0m \u001b[0m_xlib_get_keycode\u001b[0m\u001b[1;33m(\u001b[0m\u001b[0mself\u001b[0m\u001b[1;33m,\u001b[0m \u001b[0mkey\u001b[0m\u001b[1;33m)\u001b[0m \u001b[1;33m:\u001b[0m\u001b[1;33m\u001b[0m\u001b[1;33m\u001b[0m\u001b[0m\n",
      "\u001b[1;31mSystemRegisterError\u001b[0m: The bind could be in use elsewhere: f10"
     ]
    },
    {
     "name": "stdout",
     "output_type": "stream",
     "text": [
      "importing Jupyter notebook from pieces.ipynb\n",
      "importing Jupyter notebook from lib_processo.ipynb\n",
      "importing Jupyter notebook from finalizadosemsucesso.ipynb\n",
      "func 'isDebug()' is deprecated! Please use 'isdebug()' instead.\n",
      "func 'isDebug()' is deprecated! Please use 'isdebug()' instead.\n",
      "importing Jupyter notebook from finalizadocomsucesso.ipynb\n",
      "func 'isDebug()' is deprecated! Please use 'isdebug()' instead.\n",
      "func 'isDebug()' is deprecated! Please use 'isdebug()' instead.\n",
      "importing Jupyter notebook from emailfinalizado.ipynb\n",
      "func 'isDebug()' is deprecated! Please use 'isdebug()' instead.\n",
      "importing Jupyter notebook from entrardacte.ipynb\n",
      "importing Jupyter notebook from pesquisaitem.ipynb\n",
      "func 'isDebug()' is deprecated! Please use 'isdebug()' instead.\n",
      "func 'isDebug()' is deprecated! Please use 'isdebug()' instead.\n",
      "importing Jupyter notebook from prepara_ambiente.ipynb\n",
      "func 'isDebug()' is deprecated! Please use 'isdebug()' instead.\n",
      "importing Jupyter notebook from gogogo.ipynb\n",
      "importing Jupyter notebook from gvars.ipynb\n"
     ]
    }
   ],
   "source": [
    "from core import *\n",
    "\n",
    "def finalizadocomsucesso():\n",
    "    print(\"\\n\\n[Step]--> finalizadocomsucesso - INICIO\")\n",
    "    try:\n",
    "        session, application = pieces.lib_processo.get_running_sap_session()\n",
    "        enter_transaction_sap(session, \"ex\", check_field_id=None)\n",
    "    except:\n",
    "        pieces.lib.iamlost(\"Erro ao acessar SAP - finlizadocomsucesso\")\n",
    "    \n",
    "    print(\"\\n\\n[Step]--> finalizadocomsucesso - FINAL\")\n",
    "    \n",
    "    return"
   ]
  },
  {
   "cell_type": "markdown",
   "metadata": {},
   "source": [
    "<h1>finalizadocomsucesso_Sure</h1>\n",
    "\n",
    "Sem necessidade, será mantido apenas para geração de logs.\n",
    "\n",
    "<h4>Passos finalizadocomsucesso_Sure</h4><br>\n",
    "• Geração de Logs<br>"
   ]
  },
  {
   "cell_type": "code",
   "execution_count": 2,
   "metadata": {},
   "outputs": [],
   "source": [
    "def finalizadocomsucesso_sure():\n",
    "    print(\"\\n\\n[Step]--> finalizadocomsucesso_Sure - INICIO\")\n",
    "    print(\"\\n\\n[Step]--> finalizadocomsucesso_Sure - FINAL\")    \n",
    "    \n",
    "    \n",
    "    return\n"
   ]
  },
  {
   "cell_type": "markdown",
   "metadata": {},
   "source": [
    "<h1>Funçoes finalizadocomsucesso</h1>\n",
    "\n",
    "Função para fechar a sessão\n"
   ]
  },
  {
   "cell_type": "code",
   "execution_count": 3,
   "metadata": {},
   "outputs": [],
   "source": [
    "from core import *\n",
    "\n",
    "def enter_transaction_sap(session, transaction_code, *, check_field_id=None):\n",
    "    \"\"\"\n",
    "    Inputs\n",
    "        session               # SAPGUI COM Object\n",
    "        transaction_code      # SAP transaction\n",
    "        check_field_id        # verify id\n",
    "\n",
    "    Outputs\n",
    "        -10             # Error: Timeout ao tentar preencher o login\n",
    "        -11             # Error: Timeout ao carregar a próxima tela (tela inicial SAP)\n",
    "        -2              # Error: Invalid 'transaction_code'. Not \"str\"\n",
    "        -3              # Error: Invalid 'check_field_id'. Not \"str\" and not None\n",
    "        -4              # Error: Invalid 'check_field_id'. Does not contain a valid ID\n",
    "    \"\"\"\n",
    "\n",
    "    pieces.lib.filelog(\"[[ enter_transaction ]]\")\n",
    "    # Validate Input\n",
    "    if not isinstance(transaction_code, str):\n",
    "        return -2\n",
    "    if check_field_id is not None:\n",
    "        if not isinstance(check_field_id, str):\n",
    "            return -3\n",
    "        if not \"wnd[0]/usr\" in check_field_id:\n",
    "            return -4\n",
    "\n",
    "    # If the transaction does not start with \\n, attach it\n",
    "    # \\n makes any transaction reachable from within other transaction\n",
    "    # By doing it so, we dont need SAP to be on its initial screen\n",
    "    transaction_code = transaction_code.strip()\n",
    "    if not transaction_code.startswith(\"/n\"):\n",
    "        transaction_code = \"/n\" + transaction_code\n",
    "\n",
    "    session.findById(\"wnd[0]/tbar[0]/okcd\").text = transaction_code\n",
    "    session.findById(\"wnd[0]\").sendVKey(0)\n",
    "\n",
    "    # check if check_field_exists (ie: could access transaction)\n",
    "    if check_field_id is not None:\n",
    "        session.findById(check_field_id).text = \"aa\"\n",
    "        session.findById(check_field_id).text = \"\"\n",
    "    pieces.lib.filelog(\"[[ enter_transaction = \".format(transaction_code).format(\"]]\"))\n",
    "    return 1"
   ]
  },
  {
   "cell_type": "markdown",
   "metadata": {},
   "source": [
    "<h1>Testes e Homologação</h1>\n",
    "<br>\n",
    "<p>Para fins de desenvolvimento interativo, é possível simular a estrutura do framework (modo Training) e rodar o código do StepName diretamente no Jupyter:</p>"
   ]
  },
  {
   "cell_type": "code",
   "execution_count": 4,
   "metadata": {},
   "outputs": [
    {
     "name": "stdout",
     "output_type": "stream",
     "text": [
      "func 'isDebug()' is deprecated! Please use 'isdebug()' instead.\n"
     ]
    }
   ],
   "source": [
    "from core import *\n",
    "\n",
    "if isDebug(__name__): # somente rodar o codigo no Jupyter\n",
    "    #finalizadocomsucesso()\n",
    "    #finalizadocomsucesso_sure()\n",
    "    \n",
    "    finalizadocomsucesso()"
   ]
  },
  {
   "cell_type": "markdown",
   "metadata": {},
   "source": [
    "<h1>Unit Tests</h1>\n",
    "<br>\n",
    "<p>Cada função que realiza um trabalho significativo deverá ter seu respectivo teste unitário.\n",
    "\n",
    "Em contradição ao jeito que programavamos em .ahk, o \"sentido do desenvolvimento de código\" agora deverá respeitar a metodologia de TDD (test driven development) - Primeiramente desenha-se  as funções de teste unitário e <b>somente então</b> inicia-se a codificação em si, com o o objetivo de satisfazer os testes unitários.</p>"
   ]
  },
  {
   "cell_type": "code",
   "execution_count": 5,
   "metadata": {
    "scrolled": true
   },
   "outputs": [
    {
     "name": "stdout",
     "output_type": "stream",
     "text": [
      "func 'isDebug()' is deprecated! Please use 'isdebug()' instead.\n"
     ]
    }
   ],
   "source": [
    "\n",
    "    \n",
    "# permitir os testes de serem rodados somente via Jupyter\n",
    "if isDebug(__name__):\n",
    "    pass\n",
    "\n",
    "    \n",
    "    "
   ]
  },
  {
   "cell_type": "code",
   "execution_count": null,
   "metadata": {},
   "outputs": [],
   "source": []
  }
 ],
 "metadata": {
  "kernelspec": {
   "display_name": "Python 3",
   "language": "python",
   "name": "python3"
  },
  "language_info": {
   "codemirror_mode": {
    "name": "ipython",
    "version": 3
   },
   "file_extension": ".py",
   "mimetype": "text/x-python",
   "name": "python",
   "nbconvert_exporter": "python",
   "pygments_lexer": "ipython3",
   "version": "3.7.4"
  }
 },
 "nbformat": 4,
 "nbformat_minor": 2
}
