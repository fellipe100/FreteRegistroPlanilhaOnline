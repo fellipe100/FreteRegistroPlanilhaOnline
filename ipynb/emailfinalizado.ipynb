{
 "cells": [
  {
   "cell_type": "markdown",
   "metadata": {},
   "source": [
    "<h1>Processo RegistroFretePlanilhaOnline</h1>\n"
   ]
  },
  {
   "cell_type": "markdown",
   "metadata": {},
   "source": [
    "<h1>emailfinalizado</h1>\n",
    "\n",
    "O processo RegistroFretePlanilhaOnline utiliza do Notepad.<br>\n",
    "A abertura da aplicação será feita somente no emailfinalizado, logo a função está declarada neste mesmo pedaço de código.<br>\n",
    "Entretanto, a \"função de escrever no Notepad\" é compartilhada com outros StepNames, por este motivo ela está localizada no lib_processo.ipynb<br><br>\n",
    "\n",
    "<h3>Passos emailfinalizado</h3><br>\n",
    "• Abrir Notepad;<br>\n",
    "• Escrever uma credencial obtida do BPASafe no Notepad.<br>"
   ]
  },
  {
   "cell_type": "code",
   "execution_count": 1,
   "metadata": {
    "scrolled": true
   },
   "outputs": [
    {
     "name": "stderr",
     "output_type": "stream",
     "text": [
      "Unhandled exception in thread started by <bound method SystemHotkey._nt_wait of <system_hotkey.system_hotkey.SystemHotkey object at 0x000001D4E65ED648>>\n"
     ]
    },
    {
     "ename": "SystemRegisterError",
     "evalue": "The bind could be in use elsewhere: f10",
     "output_type": "error",
     "traceback": [
      "\u001b[1;31m---------------------------------------------------------------------------\u001b[0m",
      "\u001b[1;31mSystemRegisterError\u001b[0m                       Traceback (most recent call last)",
      "\u001b[1;32mC:\\ProgramData\\Anaconda3\\lib\\site-packages\\system_hotkey\\system_hotkey.py\u001b[0m in \u001b[0;36m_nt_wait\u001b[1;34m(self)\u001b[0m\n\u001b[0;32m    690\u001b[0m                 \u001b[1;32mpass\u001b[0m\u001b[1;33m\u001b[0m\u001b[1;33m\u001b[0m\u001b[0m\n\u001b[0;32m    691\u001b[0m             \u001b[1;32melse\u001b[0m\u001b[1;33m:\u001b[0m\u001b[1;33m\u001b[0m\u001b[1;33m\u001b[0m\u001b[0m\n\u001b[1;32m--> 692\u001b[1;33m                 \u001b[0mremove_or_add\u001b[0m\u001b[1;33m(\u001b[0m\u001b[1;33m)\u001b[0m\u001b[1;33m\u001b[0m\u001b[1;33m\u001b[0m\u001b[0m\n\u001b[0m\u001b[0;32m    693\u001b[0m             \u001b[1;31m# Checking the windows message Queue\u001b[0m\u001b[1;33m\u001b[0m\u001b[1;33m\u001b[0m\u001b[1;33m\u001b[0m\u001b[0m\n\u001b[0;32m    694\u001b[0m             \u001b[1;32mif\u001b[0m \u001b[0muser32\u001b[0m\u001b[1;33m.\u001b[0m\u001b[0mPeekMessageA\u001b[0m\u001b[1;33m(\u001b[0m\u001b[0mbyref\u001b[0m\u001b[1;33m(\u001b[0m\u001b[0mmsg\u001b[0m\u001b[1;33m)\u001b[0m\u001b[1;33m,\u001b[0m \u001b[1;36m0\u001b[0m\u001b[1;33m,\u001b[0m \u001b[1;36m0\u001b[0m\u001b[1;33m,\u001b[0m \u001b[1;36m0\u001b[0m\u001b[1;33m,\u001b[0m \u001b[0mPM_REMOVE\u001b[0m\u001b[1;33m)\u001b[0m\u001b[1;33m:\u001b[0m\u001b[1;33m\u001b[0m\u001b[1;33m\u001b[0m\u001b[0m\n",
      "\u001b[1;32mC:\\ProgramData\\Anaconda3\\lib\\site-packages\\system_hotkey\\system_hotkey.py\u001b[0m in \u001b[0;36m<lambda>\u001b[1;34m()\u001b[0m\n\u001b[0;32m    302\u001b[0m                 \u001b[0mself\u001b[0m\u001b[1;33m.\u001b[0m\u001b[0mhk_ref\u001b[0m\u001b[1;33m[\u001b[0m\u001b[0muniq\u001b[0m\u001b[1;33m]\u001b[0m \u001b[1;33m=\u001b[0m \u001b[1;33m(\u001b[0m\u001b[1;33m(\u001b[0m\u001b[0mkeycode\u001b[0m\u001b[1;33m,\u001b[0m \u001b[0mmasks\u001b[0m\u001b[1;33m)\u001b[0m\u001b[1;33m)\u001b[0m\u001b[1;33m\u001b[0m\u001b[1;33m\u001b[0m\u001b[0m\n\u001b[0;32m    303\u001b[0m                 \u001b[0mself\u001b[0m\u001b[1;33m.\u001b[0m\u001b[0m_the_grab\u001b[0m\u001b[1;33m(\u001b[0m\u001b[0mkeycode\u001b[0m\u001b[1;33m,\u001b[0m \u001b[0mmasks\u001b[0m\u001b[1;33m,\u001b[0m \u001b[0muniq\u001b[0m\u001b[1;33m)\u001b[0m\u001b[1;33m\u001b[0m\u001b[1;33m\u001b[0m\u001b[0m\n\u001b[1;32m--> 304\u001b[1;33m             \u001b[0mself\u001b[0m\u001b[1;33m.\u001b[0m\u001b[0mhk_action_queue\u001b[0m\u001b[1;33m.\u001b[0m\u001b[0mput\u001b[0m\u001b[1;33m(\u001b[0m\u001b[1;32mlambda\u001b[0m\u001b[1;33m:\u001b[0m\u001b[0mnt_register\u001b[0m\u001b[1;33m(\u001b[0m\u001b[1;33m)\u001b[0m\u001b[1;33m)\u001b[0m\u001b[1;33m\u001b[0m\u001b[1;33m\u001b[0m\u001b[0m\n\u001b[0m\u001b[0;32m    305\u001b[0m             \u001b[0mtime\u001b[0m\u001b[1;33m.\u001b[0m\u001b[0msleep\u001b[0m\u001b[1;33m(\u001b[0m\u001b[0mself\u001b[0m\u001b[1;33m.\u001b[0m\u001b[0mcheck_queue_interval\u001b[0m\u001b[1;33m*\u001b[0m\u001b[1;36m3\u001b[0m\u001b[1;33m)\u001b[0m\u001b[1;33m\u001b[0m\u001b[1;33m\u001b[0m\u001b[0m\n\u001b[0;32m    306\u001b[0m         \u001b[1;32melse\u001b[0m\u001b[1;33m:\u001b[0m\u001b[1;33m\u001b[0m\u001b[1;33m\u001b[0m\u001b[0m\n",
      "\u001b[1;32mC:\\ProgramData\\Anaconda3\\lib\\site-packages\\system_hotkey\\system_hotkey.py\u001b[0m in \u001b[0;36mnt_register\u001b[1;34m()\u001b[0m\n\u001b[0;32m    301\u001b[0m                 \u001b[0muniq\u001b[0m \u001b[1;33m=\u001b[0m \u001b[0mutil\u001b[0m\u001b[1;33m.\u001b[0m\u001b[0munique_int\u001b[0m\u001b[1;33m(\u001b[0m\u001b[0mself\u001b[0m\u001b[1;33m.\u001b[0m\u001b[0mhk_ref\u001b[0m\u001b[1;33m.\u001b[0m\u001b[0mkeys\u001b[0m\u001b[1;33m(\u001b[0m\u001b[1;33m)\u001b[0m\u001b[1;33m)\u001b[0m\u001b[1;33m\u001b[0m\u001b[1;33m\u001b[0m\u001b[0m\n\u001b[0;32m    302\u001b[0m                 \u001b[0mself\u001b[0m\u001b[1;33m.\u001b[0m\u001b[0mhk_ref\u001b[0m\u001b[1;33m[\u001b[0m\u001b[0muniq\u001b[0m\u001b[1;33m]\u001b[0m \u001b[1;33m=\u001b[0m \u001b[1;33m(\u001b[0m\u001b[1;33m(\u001b[0m\u001b[0mkeycode\u001b[0m\u001b[1;33m,\u001b[0m \u001b[0mmasks\u001b[0m\u001b[1;33m)\u001b[0m\u001b[1;33m)\u001b[0m\u001b[1;33m\u001b[0m\u001b[1;33m\u001b[0m\u001b[0m\n\u001b[1;32m--> 303\u001b[1;33m                 \u001b[0mself\u001b[0m\u001b[1;33m.\u001b[0m\u001b[0m_the_grab\u001b[0m\u001b[1;33m(\u001b[0m\u001b[0mkeycode\u001b[0m\u001b[1;33m,\u001b[0m \u001b[0mmasks\u001b[0m\u001b[1;33m,\u001b[0m \u001b[0muniq\u001b[0m\u001b[1;33m)\u001b[0m\u001b[1;33m\u001b[0m\u001b[1;33m\u001b[0m\u001b[0m\n\u001b[0m\u001b[0;32m    304\u001b[0m             \u001b[0mself\u001b[0m\u001b[1;33m.\u001b[0m\u001b[0mhk_action_queue\u001b[0m\u001b[1;33m.\u001b[0m\u001b[0mput\u001b[0m\u001b[1;33m(\u001b[0m\u001b[1;32mlambda\u001b[0m\u001b[1;33m:\u001b[0m\u001b[0mnt_register\u001b[0m\u001b[1;33m(\u001b[0m\u001b[1;33m)\u001b[0m\u001b[1;33m)\u001b[0m\u001b[1;33m\u001b[0m\u001b[1;33m\u001b[0m\u001b[0m\n\u001b[0;32m    305\u001b[0m             \u001b[0mtime\u001b[0m\u001b[1;33m.\u001b[0m\u001b[0msleep\u001b[0m\u001b[1;33m(\u001b[0m\u001b[0mself\u001b[0m\u001b[1;33m.\u001b[0m\u001b[0mcheck_queue_interval\u001b[0m\u001b[1;33m*\u001b[0m\u001b[1;36m3\u001b[0m\u001b[1;33m)\u001b[0m\u001b[1;33m\u001b[0m\u001b[1;33m\u001b[0m\u001b[0m\n",
      "\u001b[1;32mC:\\ProgramData\\Anaconda3\\lib\\site-packages\\system_hotkey\\system_hotkey.py\u001b[0m in \u001b[0;36m_nt_the_grab\u001b[1;34m(self, keycode, masks, id, root)\u001b[0m\n\u001b[0;32m    722\u001b[0m             \u001b[0mkeysym\u001b[0m \u001b[1;33m=\u001b[0m \u001b[0mself\u001b[0m\u001b[1;33m.\u001b[0m\u001b[0m_nt_get_keysym\u001b[0m\u001b[1;33m(\u001b[0m\u001b[0mkeycode\u001b[0m\u001b[1;33m)\u001b[0m\u001b[1;33m\u001b[0m\u001b[1;33m\u001b[0m\u001b[0m\n\u001b[0;32m    723\u001b[0m             \u001b[0mmsg\u001b[0m \u001b[1;33m=\u001b[0m \u001b[1;34m'The bind could be in use elsewhere: '\u001b[0m \u001b[1;33m+\u001b[0m \u001b[0mkeysym\u001b[0m\u001b[1;33m\u001b[0m\u001b[1;33m\u001b[0m\u001b[0m\n\u001b[1;32m--> 724\u001b[1;33m             \u001b[1;32mraise\u001b[0m \u001b[0mSystemRegisterError\u001b[0m\u001b[1;33m(\u001b[0m\u001b[0mmsg\u001b[0m\u001b[1;33m)\u001b[0m\u001b[1;33m\u001b[0m\u001b[1;33m\u001b[0m\u001b[0m\n\u001b[0m\u001b[0;32m    725\u001b[0m \u001b[1;33m\u001b[0m\u001b[0m\n\u001b[0;32m    726\u001b[0m     \u001b[1;32mdef\u001b[0m \u001b[0m_xlib_get_keycode\u001b[0m\u001b[1;33m(\u001b[0m\u001b[0mself\u001b[0m\u001b[1;33m,\u001b[0m \u001b[0mkey\u001b[0m\u001b[1;33m)\u001b[0m \u001b[1;33m:\u001b[0m\u001b[1;33m\u001b[0m\u001b[1;33m\u001b[0m\u001b[0m\n",
      "\u001b[1;31mSystemRegisterError\u001b[0m: The bind could be in use elsewhere: f10"
     ]
    },
    {
     "name": "stdout",
     "output_type": "stream",
     "text": [
      "importing Jupyter notebook from pieces.ipynb\n",
      "importing Jupyter notebook from lib_processo.ipynb\n",
      "importing Jupyter notebook from finalizadosemsucesso.ipynb\n",
      "func 'isDebug()' is deprecated! Please use 'isdebug()' instead.\n",
      "func 'isDebug()' is deprecated! Please use 'isdebug()' instead.\n",
      "importing Jupyter notebook from finalizadocomsucesso.ipynb\n",
      "func 'isDebug()' is deprecated! Please use 'isdebug()' instead.\n",
      "func 'isDebug()' is deprecated! Please use 'isdebug()' instead.\n",
      "importing Jupyter notebook from emailfinalizado.ipynb\n",
      "func 'isDebug()' is deprecated! Please use 'isdebug()' instead.\n",
      "importing Jupyter notebook from entrardacte.ipynb\n",
      "importing Jupyter notebook from pesquisaitem.ipynb\n",
      "func 'isDebug()' is deprecated! Please use 'isdebug()' instead.\n",
      "func 'isDebug()' is deprecated! Please use 'isdebug()' instead.\n",
      "importing Jupyter notebook from prepara_ambiente.ipynb\n",
      "func 'isDebug()' is deprecated! Please use 'isdebug()' instead.\n",
      "importing Jupyter notebook from gogogo.ipynb\n",
      "importing Jupyter notebook from gvars.ipynb\n"
     ]
    }
   ],
   "source": [
    "from core import *\n",
    "\n",
    "def emailfinalizado():\n",
    "    print(\"\\n\\n[Step]--> emailfinalizado\")\n",
    "\n",
    "    \n",
    "    return\n",
    "     "
   ]
  },
  {
   "cell_type": "markdown",
   "metadata": {},
   "source": [
    "<h1>emailfinalizado_Sure</h1>\n",
    "\n",
    "Com o Notepad aberto, tentaremos escrever algo para verificar se realmente ele está aberto & responsivo.<br>\n",
    "<font color='red'>Atenção:</font> O texto digitado deverá apagado logo após, deixando o Notepad limpo para o processo.<br><br>\n",
    "\n",
    "<h4>Passos emailfinalizado_Sure</h4><br>\n",
    "• Apagar o conteudo do Notepad.<br>"
   ]
  },
  {
   "cell_type": "code",
   "execution_count": 2,
   "metadata": {},
   "outputs": [],
   "source": [
    "def emailfinalizado_sure():\n",
    "    print(\"\\n\\n[Step]--> emailfinalizado_Sure\")\n",
    "    \n",
    "\n",
    "    \n",
    "    return\n"
   ]
  },
  {
   "cell_type": "markdown",
   "metadata": {},
   "source": [
    "<h1>Funçoes emailfinalizado</h1>\n",
    "\n",
    "Contem a funcão de abrir o notepad.\n",
    "\n"
   ]
  },
  {
   "cell_type": "code",
   "execution_count": 3,
   "metadata": {},
   "outputs": [],
   "source": [
    "from core import *\n",
    "\n",
    "def envia_email(all_text_row):\n",
    "    \"\"\"\n",
    "    Função enviar_email:\n",
    "    \n",
    "    Entradas:\n",
    "        arquivo                         # Nome do arquivo em pdf\n",
    "        \n",
    "    Retornos:\n",
    "        receiver_email                  # Email Enviados\n",
    "    \"\"\"\n",
    "    \n",
    "    pieces.lib.ultradebug(\"\\n\\n[Step]--> [ enviar_email ]\")\n",
    "    pieces.lib.filelog(\"[ enviar_email ]\")\n",
    "\n",
    "    #codigo_cte = all_text_row[3]\n",
    "    \n",
    "    sender_email = \"bots_inbox@bpatechnologies.com\"\n",
    "    password = 'bpa@1234'\n",
    "    \n",
    "#     body = \"Caso {} cadastrado\".format(codigo_cte)\n",
    "    body = \"TESTE\"\n",
    "    #receiver_email = \"melody@bpatechnologies.com\"\n",
    "    receiver_email = \"fellipe.pereira@bpatechnologies.com\"\n",
    "    \n",
    "#     subject = \"Caso {}\".format(codigo_cte)\n",
    "    subject = \"TESTE\"\n",
    "\n",
    "    # Create a multipart message and set headers\n",
    "    message = pieces.MIMEMultipart()\n",
    "    message[\"From\"] = sender_email\n",
    "    message[\"To\"] = receiver_email\n",
    "    message[\"Subject\"] = subject\n",
    "\n",
    "    # Add body to email\n",
    "    message.attach(pieces.MIMEText(body, \"plain\"))\n",
    "    text = message.as_string()\n",
    "\n",
    "    # Log in to server using secure context and send email\n",
    "    context = pieces.ssl.create_default_context()\n",
    "    with pieces.smtplib.SMTP_SSL(\"smtp.gmail.com\", \"465\", context=context) as server:\n",
    "        server.login(sender_email, password)\n",
    "        server.sendmail(sender_email, receiver_email, text)\n",
    "    return receiver_email"
   ]
  },
  {
   "cell_type": "markdown",
   "metadata": {},
   "source": [
    "<h1>Testes e Homologação</h1>\n",
    "<br>\n",
    "<p>Para fins de desenvolvimento interativo, é possível simular a estrutura do framework (modo Training) e rodar o código do StepName diretamente no Jupyter:</p>"
   ]
  },
  {
   "cell_type": "code",
   "execution_count": 4,
   "metadata": {},
   "outputs": [
    {
     "name": "stdout",
     "output_type": "stream",
     "text": [
      "\n",
      "\n",
      "[Step]--> emailfinalizado\n"
     ]
    }
   ],
   "source": [
    "from core import *\n",
    "\n",
    "if isdebug(__name__): # somente rodar o codigo no Jupyter\n",
    "    #emailfinalizado()\n",
    "    #emailfinalizado_sure()\n",
    "    #print(abrir_notepad('prd'))\n",
    "    emailfinalizado()\n",
    "#     envia_email(\"MeuTeste\")"
   ]
  },
  {
   "cell_type": "markdown",
   "metadata": {},
   "source": [
    "<h1>Unit Tests</h1>\n",
    "<br>\n",
    "<p>Cada função que realiza um trabalho significativo deverá ter seu respectivo teste unitário.\n",
    "\n",
    "Em contradição ao jeito que programavamos em .ahk, o \"sentido do desenvolvimento de código\" agora deverá respeitar a metodologia de TDD (test driven development) - Primeiramente desenha-se  as funções de teste unitário e <b>somente então</b> inicia-se a codificação em si, com o o objetivo de satisfazer os testes unitários.</p>"
   ]
  },
  {
   "cell_type": "code",
   "execution_count": 5,
   "metadata": {
    "scrolled": true
   },
   "outputs": [
    {
     "name": "stdout",
     "output_type": "stream",
     "text": [
      "func 'isDebug()' is deprecated! Please use 'isdebug()' instead.\n"
     ]
    }
   ],
   "source": [
    "from core import *\n",
    "\n",
    "\n",
    "    \n",
    "# permitir os testes de serem rodados somente via Jupyter\n",
    "if isDebug(__name__):\n",
    "#     test_abrir_notepad()\n",
    "#     test_escrever_notepad()\n",
    "#     test_apagar_notepad()\n",
    "    pass\n",
    "\n",
    "    \n",
    "    "
   ]
  },
  {
   "cell_type": "code",
   "execution_count": null,
   "metadata": {},
   "outputs": [],
   "source": []
  },
  {
   "cell_type": "code",
   "execution_count": null,
   "metadata": {},
   "outputs": [],
   "source": []
  }
 ],
 "metadata": {
  "kernelspec": {
   "display_name": "Python 3",
   "language": "python",
   "name": "python3"
  },
  "language_info": {
   "codemirror_mode": {
    "name": "ipython",
    "version": 3
   },
   "file_extension": ".py",
   "mimetype": "text/x-python",
   "name": "python",
   "nbconvert_exporter": "python",
   "pygments_lexer": "ipython3",
   "version": "3.7.4"
  }
 },
 "nbformat": 4,
 "nbformat_minor": 2
}
