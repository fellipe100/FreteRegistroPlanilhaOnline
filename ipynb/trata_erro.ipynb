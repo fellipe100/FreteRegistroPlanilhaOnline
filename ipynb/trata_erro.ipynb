{
 "cells": [
  {
   "cell_type": "code",
   "execution_count": null,
   "metadata": {},
   "outputs": [],
   "source": [
    "from core import *\n",
    "\n",
    "def trata_erro():\n",
    "    pieces.lib.ultradebug(\"\\n\\n[Step]--> trata_erro\")\n",
    "    \n",
    "    try:\n",
    "        app_mkt = pieces.pywinauto.application.Application(backend='uia').connect(title_re='.*issd.*')\n",
    "        pieces.lib.filelog(\"Fechando o MKT...\")\n",
    "        app_mkt.kill()\n",
    "    except pieces.pywinauto.application.findwindows.ElementNotFoundError:\n",
    "        pass\n",
    "    \n",
    "    try:\n",
    "        app_sci = pieces.pywinauto.application.Application(backend='uia').connect(title_re='.*SCI - Sistema.*')\n",
    "        pieces.lib.filelog(\"Fechando o SCI...\")\n",
    "        app_sci.kill()\n",
    "    except pieces.pywinauto.application.findwindows.ElementNotFoundError:\n",
    "        pass\n",
    "    \n",
    "    pieces.lib.ultradebug(\"\\n\\n[Fim Step]--> trata_erro\")\n",
    "    return\n",
    "\n",
    "def trata_erro_sure():\n",
    "    pieces.lib.ultradebug(\"\\n\\n[Step]--> trata_erro_sure\")\n",
    "    pieces.lib.ultradebug(\"\\n\\n[Fim Step]--> trata_erro_sure\")\n",
    "    return"
   ]
  }
 ],
 "metadata": {
  "kernelspec": {
   "display_name": "Python 3",
   "language": "python",
   "name": "python3"
  },
  "language_info": {
   "codemirror_mode": {
    "name": "ipython",
    "version": 3
   },
   "file_extension": ".py",
   "mimetype": "text/x-python",
   "name": "python",
   "nbconvert_exporter": "python",
   "pygments_lexer": "ipython3",
   "version": "3.7.4"
  }
 },
 "nbformat": 4,
 "nbformat_minor": 2
}
