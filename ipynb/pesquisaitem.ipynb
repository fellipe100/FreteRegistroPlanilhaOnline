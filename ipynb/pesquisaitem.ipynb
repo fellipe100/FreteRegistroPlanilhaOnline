{
 "cells": [
  {
   "cell_type": "markdown",
   "metadata": {},
   "source": [
    "<h1>Processo Registro de Frete Planilha Online</h1>\n"
   ]
  },
  {
   "cell_type": "markdown",
   "metadata": {},
   "source": [
    "<h1>pesquisaItem</h1>\n",
    "\n",
    "Este processo acessa a planilha fornecida na plataforma WebSheets, verificando se há pedidos aprovados para geração de DACTE.<br><br>\n",
    "\n",
    "<h3>Passos pesquisaItem</h3><br>\n",
    "• Acessa planilha WebSheets<br>\n",
    "• Coleta de pedidos a serem processados pelo robô<br>"
   ]
  },
  {
   "cell_type": "code",
   "execution_count": 1,
   "metadata": {
    "scrolled": true
   },
   "outputs": [
    {
     "name": "stderr",
     "output_type": "stream",
     "text": [
      "Unhandled exception in thread started by <bound method SystemHotkey._nt_wait of <system_hotkey.system_hotkey.SystemHotkey object at 0x000001AA6AD4AF88>>\n"
     ]
    },
    {
     "ename": "SystemRegisterError",
     "evalue": "The bind could be in use elsewhere: f10",
     "output_type": "error",
     "traceback": [
      "\u001b[1;31m---------------------------------------------------------------------------\u001b[0m",
      "\u001b[1;31mSystemRegisterError\u001b[0m                       Traceback (most recent call last)",
      "\u001b[1;32mC:\\ProgramData\\Anaconda3\\lib\\site-packages\\system_hotkey\\system_hotkey.py\u001b[0m in \u001b[0;36m_nt_wait\u001b[1;34m(self)\u001b[0m\n\u001b[0;32m    690\u001b[0m                 \u001b[1;32mpass\u001b[0m\u001b[1;33m\u001b[0m\u001b[1;33m\u001b[0m\u001b[0m\n\u001b[0;32m    691\u001b[0m             \u001b[1;32melse\u001b[0m\u001b[1;33m:\u001b[0m\u001b[1;33m\u001b[0m\u001b[1;33m\u001b[0m\u001b[0m\n\u001b[1;32m--> 692\u001b[1;33m                 \u001b[0mremove_or_add\u001b[0m\u001b[1;33m(\u001b[0m\u001b[1;33m)\u001b[0m\u001b[1;33m\u001b[0m\u001b[1;33m\u001b[0m\u001b[0m\n\u001b[0m\u001b[0;32m    693\u001b[0m             \u001b[1;31m# Checking the windows message Queue\u001b[0m\u001b[1;33m\u001b[0m\u001b[1;33m\u001b[0m\u001b[1;33m\u001b[0m\u001b[0m\n\u001b[0;32m    694\u001b[0m             \u001b[1;32mif\u001b[0m \u001b[0muser32\u001b[0m\u001b[1;33m.\u001b[0m\u001b[0mPeekMessageA\u001b[0m\u001b[1;33m(\u001b[0m\u001b[0mbyref\u001b[0m\u001b[1;33m(\u001b[0m\u001b[0mmsg\u001b[0m\u001b[1;33m)\u001b[0m\u001b[1;33m,\u001b[0m \u001b[1;36m0\u001b[0m\u001b[1;33m,\u001b[0m \u001b[1;36m0\u001b[0m\u001b[1;33m,\u001b[0m \u001b[1;36m0\u001b[0m\u001b[1;33m,\u001b[0m \u001b[0mPM_REMOVE\u001b[0m\u001b[1;33m)\u001b[0m\u001b[1;33m:\u001b[0m\u001b[1;33m\u001b[0m\u001b[1;33m\u001b[0m\u001b[0m\n",
      "\u001b[1;32mC:\\ProgramData\\Anaconda3\\lib\\site-packages\\system_hotkey\\system_hotkey.py\u001b[0m in \u001b[0;36m<lambda>\u001b[1;34m()\u001b[0m\n\u001b[0;32m    302\u001b[0m                 \u001b[0mself\u001b[0m\u001b[1;33m.\u001b[0m\u001b[0mhk_ref\u001b[0m\u001b[1;33m[\u001b[0m\u001b[0muniq\u001b[0m\u001b[1;33m]\u001b[0m \u001b[1;33m=\u001b[0m \u001b[1;33m(\u001b[0m\u001b[1;33m(\u001b[0m\u001b[0mkeycode\u001b[0m\u001b[1;33m,\u001b[0m \u001b[0mmasks\u001b[0m\u001b[1;33m)\u001b[0m\u001b[1;33m)\u001b[0m\u001b[1;33m\u001b[0m\u001b[1;33m\u001b[0m\u001b[0m\n\u001b[0;32m    303\u001b[0m                 \u001b[0mself\u001b[0m\u001b[1;33m.\u001b[0m\u001b[0m_the_grab\u001b[0m\u001b[1;33m(\u001b[0m\u001b[0mkeycode\u001b[0m\u001b[1;33m,\u001b[0m \u001b[0mmasks\u001b[0m\u001b[1;33m,\u001b[0m \u001b[0muniq\u001b[0m\u001b[1;33m)\u001b[0m\u001b[1;33m\u001b[0m\u001b[1;33m\u001b[0m\u001b[0m\n\u001b[1;32m--> 304\u001b[1;33m             \u001b[0mself\u001b[0m\u001b[1;33m.\u001b[0m\u001b[0mhk_action_queue\u001b[0m\u001b[1;33m.\u001b[0m\u001b[0mput\u001b[0m\u001b[1;33m(\u001b[0m\u001b[1;32mlambda\u001b[0m\u001b[1;33m:\u001b[0m\u001b[0mnt_register\u001b[0m\u001b[1;33m(\u001b[0m\u001b[1;33m)\u001b[0m\u001b[1;33m)\u001b[0m\u001b[1;33m\u001b[0m\u001b[1;33m\u001b[0m\u001b[0m\n\u001b[0m\u001b[0;32m    305\u001b[0m             \u001b[0mtime\u001b[0m\u001b[1;33m.\u001b[0m\u001b[0msleep\u001b[0m\u001b[1;33m(\u001b[0m\u001b[0mself\u001b[0m\u001b[1;33m.\u001b[0m\u001b[0mcheck_queue_interval\u001b[0m\u001b[1;33m*\u001b[0m\u001b[1;36m3\u001b[0m\u001b[1;33m)\u001b[0m\u001b[1;33m\u001b[0m\u001b[1;33m\u001b[0m\u001b[0m\n\u001b[0;32m    306\u001b[0m         \u001b[1;32melse\u001b[0m\u001b[1;33m:\u001b[0m\u001b[1;33m\u001b[0m\u001b[1;33m\u001b[0m\u001b[0m\n",
      "\u001b[1;32mC:\\ProgramData\\Anaconda3\\lib\\site-packages\\system_hotkey\\system_hotkey.py\u001b[0m in \u001b[0;36mnt_register\u001b[1;34m()\u001b[0m\n\u001b[0;32m    301\u001b[0m                 \u001b[0muniq\u001b[0m \u001b[1;33m=\u001b[0m \u001b[0mutil\u001b[0m\u001b[1;33m.\u001b[0m\u001b[0munique_int\u001b[0m\u001b[1;33m(\u001b[0m\u001b[0mself\u001b[0m\u001b[1;33m.\u001b[0m\u001b[0mhk_ref\u001b[0m\u001b[1;33m.\u001b[0m\u001b[0mkeys\u001b[0m\u001b[1;33m(\u001b[0m\u001b[1;33m)\u001b[0m\u001b[1;33m)\u001b[0m\u001b[1;33m\u001b[0m\u001b[1;33m\u001b[0m\u001b[0m\n\u001b[0;32m    302\u001b[0m                 \u001b[0mself\u001b[0m\u001b[1;33m.\u001b[0m\u001b[0mhk_ref\u001b[0m\u001b[1;33m[\u001b[0m\u001b[0muniq\u001b[0m\u001b[1;33m]\u001b[0m \u001b[1;33m=\u001b[0m \u001b[1;33m(\u001b[0m\u001b[1;33m(\u001b[0m\u001b[0mkeycode\u001b[0m\u001b[1;33m,\u001b[0m \u001b[0mmasks\u001b[0m\u001b[1;33m)\u001b[0m\u001b[1;33m)\u001b[0m\u001b[1;33m\u001b[0m\u001b[1;33m\u001b[0m\u001b[0m\n\u001b[1;32m--> 303\u001b[1;33m                 \u001b[0mself\u001b[0m\u001b[1;33m.\u001b[0m\u001b[0m_the_grab\u001b[0m\u001b[1;33m(\u001b[0m\u001b[0mkeycode\u001b[0m\u001b[1;33m,\u001b[0m \u001b[0mmasks\u001b[0m\u001b[1;33m,\u001b[0m \u001b[0muniq\u001b[0m\u001b[1;33m)\u001b[0m\u001b[1;33m\u001b[0m\u001b[1;33m\u001b[0m\u001b[0m\n\u001b[0m\u001b[0;32m    304\u001b[0m             \u001b[0mself\u001b[0m\u001b[1;33m.\u001b[0m\u001b[0mhk_action_queue\u001b[0m\u001b[1;33m.\u001b[0m\u001b[0mput\u001b[0m\u001b[1;33m(\u001b[0m\u001b[1;32mlambda\u001b[0m\u001b[1;33m:\u001b[0m\u001b[0mnt_register\u001b[0m\u001b[1;33m(\u001b[0m\u001b[1;33m)\u001b[0m\u001b[1;33m)\u001b[0m\u001b[1;33m\u001b[0m\u001b[1;33m\u001b[0m\u001b[0m\n\u001b[0;32m    305\u001b[0m             \u001b[0mtime\u001b[0m\u001b[1;33m.\u001b[0m\u001b[0msleep\u001b[0m\u001b[1;33m(\u001b[0m\u001b[0mself\u001b[0m\u001b[1;33m.\u001b[0m\u001b[0mcheck_queue_interval\u001b[0m\u001b[1;33m*\u001b[0m\u001b[1;36m3\u001b[0m\u001b[1;33m)\u001b[0m\u001b[1;33m\u001b[0m\u001b[1;33m\u001b[0m\u001b[0m\n",
      "\u001b[1;32mC:\\ProgramData\\Anaconda3\\lib\\site-packages\\system_hotkey\\system_hotkey.py\u001b[0m in \u001b[0;36m_nt_the_grab\u001b[1;34m(self, keycode, masks, id, root)\u001b[0m\n\u001b[0;32m    722\u001b[0m             \u001b[0mkeysym\u001b[0m \u001b[1;33m=\u001b[0m \u001b[0mself\u001b[0m\u001b[1;33m.\u001b[0m\u001b[0m_nt_get_keysym\u001b[0m\u001b[1;33m(\u001b[0m\u001b[0mkeycode\u001b[0m\u001b[1;33m)\u001b[0m\u001b[1;33m\u001b[0m\u001b[1;33m\u001b[0m\u001b[0m\n\u001b[0;32m    723\u001b[0m             \u001b[0mmsg\u001b[0m \u001b[1;33m=\u001b[0m \u001b[1;34m'The bind could be in use elsewhere: '\u001b[0m \u001b[1;33m+\u001b[0m \u001b[0mkeysym\u001b[0m\u001b[1;33m\u001b[0m\u001b[1;33m\u001b[0m\u001b[0m\n\u001b[1;32m--> 724\u001b[1;33m             \u001b[1;32mraise\u001b[0m \u001b[0mSystemRegisterError\u001b[0m\u001b[1;33m(\u001b[0m\u001b[0mmsg\u001b[0m\u001b[1;33m)\u001b[0m\u001b[1;33m\u001b[0m\u001b[1;33m\u001b[0m\u001b[0m\n\u001b[0m\u001b[0;32m    725\u001b[0m \u001b[1;33m\u001b[0m\u001b[0m\n\u001b[0;32m    726\u001b[0m     \u001b[1;32mdef\u001b[0m \u001b[0m_xlib_get_keycode\u001b[0m\u001b[1;33m(\u001b[0m\u001b[0mself\u001b[0m\u001b[1;33m,\u001b[0m \u001b[0mkey\u001b[0m\u001b[1;33m)\u001b[0m \u001b[1;33m:\u001b[0m\u001b[1;33m\u001b[0m\u001b[1;33m\u001b[0m\u001b[0m\n",
      "\u001b[1;31mSystemRegisterError\u001b[0m: The bind could be in use elsewhere: f10"
     ]
    },
    {
     "name": "stdout",
     "output_type": "stream",
     "text": [
      "importing Jupyter notebook from pieces.ipynb\n",
      "importing Jupyter notebook from lib_processo.ipynb\n",
      "importing Jupyter notebook from finalizadosemsucesso.ipynb\n",
      "func 'isDebug()' is deprecated! Please use 'isdebug()' instead.\n",
      "func 'isDebug()' is deprecated! Please use 'isdebug()' instead.\n",
      "importing Jupyter notebook from finalizadocomsucesso.ipynb\n",
      "func 'isDebug()' is deprecated! Please use 'isdebug()' instead.\n",
      "func 'isDebug()' is deprecated! Please use 'isdebug()' instead.\n",
      "importing Jupyter notebook from emailfinalizado.ipynb\n",
      "func 'isDebug()' is deprecated! Please use 'isdebug()' instead.\n",
      "importing Jupyter notebook from entrardacte.ipynb\n",
      "importing Jupyter notebook from pesquisaitem.ipynb\n",
      "func 'isDebug()' is deprecated! Please use 'isdebug()' instead.\n",
      "func 'isDebug()' is deprecated! Please use 'isdebug()' instead.\n",
      "importing Jupyter notebook from prepara_ambiente.ipynb\n",
      "func 'isDebug()' is deprecated! Please use 'isdebug()' instead.\n",
      "importing Jupyter notebook from gogogo.ipynb\n",
      "importing Jupyter notebook from gvars.ipynb\n"
     ]
    }
   ],
   "source": [
    "from core import *\n",
    "\n",
    "def pesquisaitem():\n",
    "    print(\"\\n\\n[Step]--> pesquisaitem - INICIO\")\n",
    "    \n",
    "#     collect_all_spreedshet_data()\n",
    "    \n",
    "    print(\"\\n\\n[Step]--> pesquisaitem - FINAL\")\n",
    "    \n",
    "    return\n",
    "\n"
   ]
  },
  {
   "cell_type": "markdown",
   "metadata": {},
   "source": [
    "<h1>pesquisaItem_Sure</h1>\n",
    "\n",
    "Sem necessidade para esse módulo, será mantido apenas para geração de logs.\n",
    "\n",
    "<h4>Passos pesquisaitem_Sure</h4><br>\n",
    "• Geração de Log.<br>"
   ]
  },
  {
   "cell_type": "code",
   "execution_count": 2,
   "metadata": {},
   "outputs": [],
   "source": [
    "def pesquisaitem_Sure():\n",
    "    print(\"\\n\\n[Step]--> pesquisaitem_Sure - INICIO\")\n",
    "    print(\"\\n\\n[Step]--> pesquisaitem_Sure - FINAL\")\n",
    "    \n",
    "    return\n"
   ]
  },
  {
   "cell_type": "markdown",
   "metadata": {},
   "source": [
    "<h1>Funçoes pesquisaItem</h1>\n",
    "\n",
    "Contem a funcão openWebSheet, utilizada para realizar a comunicação com a API da plataforma WebSheets\n",
    "\n",
    "<h3>func: openWebSheets(str=authFile, str=worksheet, srt=activeSheet='')</h3>\n",
    "<p style=\"text-indent :5em;\" > A função recebe o caminho do arquivo com a chave para acesso à API, o nome da planilha a ser acessada e, opcionalmente, o nome da aba que deverá ser acessada. Se o nome da aba não for fornecido, será utilizada a aba padrão da planilha.<br>\n",
    "<br>Essa função retorna a Sessão aberta com a API</p>\n",
    "\n",
    "<!-- <img src=\"images_doc/notepad_aberto.png\" width=640 heigth=400> -->\n",
    "<br>"
   ]
  },
  {
   "cell_type": "code",
   "execution_count": 3,
   "metadata": {},
   "outputs": [],
   "source": [
    "def openWebSheet(authFile, worksheet, activeSheet=''):\n",
    "\n",
    "    # authFile                 =    name of authentication file provided by Google API Service\n",
    "    # worksheet                =    name of the websheet\n",
    "    # activeSheet (optional)   =    title of the sheet to be activated and returned. If empty, returns default sheet  \n",
    "    \n",
    "    scope = ['https://spreadsheets.google.com/feeds','https://www.googleapis.com/auth/drive']\n",
    "    creds = ServiceAccountCredentials.from_json_keyfile_name(authFile, scope)\n",
    "    client = gspread.authorize(creds)\n",
    "    \n",
    "    # Opens the conection\n",
    "    ws = client.open(worksheet)\n",
    "    \n",
    "    # Checks if the sheet title was passed to the function\n",
    "    if activeSheet != '':\n",
    "        return ws.worksheet(activeSheet)      \n",
    "    \n",
    "    #Returns the worksheet on the default sheet\n",
    "    return ws.sheet1 "
   ]
  },
  {
   "cell_type": "markdown",
   "metadata": {},
   "source": [
    "<h1>Testes e Homologação</h1>\n",
    "<br>\n",
    "<p>Para fins de desenvolvimento interativo, é possível simular a estrutura do framework (modo Training) e rodar o código do StepName diretamente no Jupyter:</p>"
   ]
  },
  {
   "cell_type": "code",
   "execution_count": 4,
   "metadata": {},
   "outputs": [
    {
     "name": "stdout",
     "output_type": "stream",
     "text": [
      "func 'isDebug()' is deprecated! Please use 'isdebug()' instead.\n"
     ]
    }
   ],
   "source": [
    "from core import *\n",
    "\n",
    "if isDebug(__name__): # somente rodar o codigo no Jupyter\n",
    "    #pesquisaitem()\n",
    "    #pesquisaitem_sure()\n",
    "    #print(abrir_notepad('prd'))\n",
    "    pesquisaitem()"
   ]
  },
  {
   "cell_type": "markdown",
   "metadata": {},
   "source": [
    "<h1>Unit Tests</h1>\n",
    "<br>\n",
    "<p>Cada função que realiza um trabalho significativo deverá ter seu respectivo teste unitário.\n",
    "\n",
    "Em contradição ao jeito que programavamos em .ahk, o \"sentido do desenvolvimento de código\" agora deverá respeitar a metodologia de TDD (test driven development) - Primeiramente desenha-se  as funções de teste unitário e <b>somente então</b> inicia-se a codificação em si, com o o objetivo de satisfazer os testes unitários.</p>"
   ]
  },
  {
   "cell_type": "code",
   "execution_count": 5,
   "metadata": {
    "scrolled": true
   },
   "outputs": [
    {
     "name": "stdout",
     "output_type": "stream",
     "text": [
      "func 'isDebug()' is deprecated! Please use 'isdebug()' instead.\n"
     ]
    }
   ],
   "source": [
    "from core import *\n",
    "# import gspread \n",
    "# from oauth2client.service_account import ServiceAccountCredentials\n",
    "\n",
    "def test_collect_all_spreedshet_data():\n",
    "    test_cases = [{\"test_name\": \"planilha_populada\",\n",
    "                   \"expected_result\": \"POPULATED\"}\n",
    "#                   {\"test_name\": \"planilha_vazia\",\n",
    "#                    \"expected_result\": \"EMPTY\"},\n",
    "                 ]\n",
    "    results = []\n",
    "    expected_results = []\n",
    "    \n",
    "    for test_case in test_cases:\n",
    "        all_data = collect_all_spreedshet_data()\n",
    "    \n",
    "        if len(all_data) > 0:\n",
    "            results.append(\"POPULATED\")\n",
    "        else:\n",
    "            results.append(\"EMPTY\")\n",
    "        \n",
    "        \n",
    "        expected_results.append(test_case[\"expected_result\"])  \n",
    "\n",
    "    print(\"unity test: {}\".format(collect_all_spreedshet_data.__name__))\n",
    "    print(\"results {}\".format(results))\n",
    "    print(\"expected_results {}\".format(expected_results))\n",
    "\n",
    "    assert results == expected_results\n",
    "\n",
    "    print(\"Teste bem sucedido\")\n",
    "    return\n",
    "\n",
    "\n",
    "# permitir os testes de serem rodados somente via Jupyter\n",
    "if isDebug(__name__):\n",
    "    test_collect_all_spreedshet_data()\n",
    "    pass  \n",
    "    "
   ]
  },
  {
   "cell_type": "code",
   "execution_count": null,
   "metadata": {},
   "outputs": [],
   "source": []
  }
 ],
 "metadata": {
  "kernelspec": {
   "display_name": "Python 3",
   "language": "python",
   "name": "python3"
  },
  "language_info": {
   "codemirror_mode": {
    "name": "ipython",
    "version": 3
   },
   "file_extension": ".py",
   "mimetype": "text/x-python",
   "name": "python",
   "nbconvert_exporter": "python",
   "pygments_lexer": "ipython3",
   "version": "3.7.4"
  }
 },
 "nbformat": 4,
 "nbformat_minor": 2
}
